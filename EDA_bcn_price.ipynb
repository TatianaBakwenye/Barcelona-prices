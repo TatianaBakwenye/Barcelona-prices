{
 "cells": [
  {
   "cell_type": "code",
   "execution_count": 2,
   "id": "7478e79b",
   "metadata": {},
   "outputs": [],
   "source": [
    "# Import packages\n",
    "import sys\n",
    "import pandas as pd\n",
    "import numpy as np\n",
    "import os\n",
    "import matplotlib.pyplot as plt\n",
    "import seaborn as sns\n",
    "from scipy.stats import sem\n",
    "import math\n",
    "import datetime\n",
    "import missingno as msno\n",
    "from sklearn.impute import KNNImputer\n",
    "from sklearn.preprocessing import OneHotEncoder\n",
    "# Measure multicolinearity\n",
    "from patsy import dmatrices\n",
    "from statsmodels.stats.outliers_influence import variance_inflation_factor\n",
    "from sklearn.model_selection import train_test_split\n",
    "from sklearn.linear_model import LinearRegression\n",
    "from sklearn.metrics import mean_squared_error, r2_score"
   ]
  },
  {
   "cell_type": "code",
   "execution_count": 3,
   "id": "195961d2",
   "metadata": {},
   "outputs": [],
   "source": [
    "# Set path to directory\n",
    "sys.path.append('/Users/mikelgallo/repos/Barcelona-prices') # main path to repo"
   ]
  },
  {
   "cell_type": "code",
   "execution_count": 4,
   "id": "ab7c84c4",
   "metadata": {},
   "outputs": [],
   "source": [
    "#Import own modules\n",
    "import inferences as hh\n",
    "from inferences import *"
   ]
  },
  {
   "cell_type": "code",
   "execution_count": 5,
   "id": "2c1ec89a",
   "metadata": {},
   "outputs": [],
   "source": [
    "# Load dataset\n",
    "df = pd.read_csv('./train.csv')\n",
    "dt = pd.read_csv('./test.csv')"
   ]
  },
  {
   "cell_type": "markdown",
   "id": "071b7e33",
   "metadata": {},
   "source": [
    "### Variable description\n",
    "\n",
    "1) num_rooms: # bedrooms in an apartment. (numeric)\n",
    "\n",
    "2) num_baths: # of bathrooms in an apartment.  (numeric)\n",
    "\n",
    "3) square_meters: total area or size of the apartment, measured in square meters. (numeric)\n",
    "\n",
    "4) orientation: specifies the compass direction it faces or the direction in which its windows are oriented. (categorical)\n",
    "\n",
    "5) year_built: year in which the apartment was constructed or built.(numeric)(obtain age)\n",
    "\n",
    "6) door: Specific door number or identifier associated with the apartment within a building or complex.(obtain floor)\n",
    "\n",
    "7) is_furnished: This variable indicates whether the apartment is offered or equipped with furniture.(boolean)(categ)\n",
    "\n",
    "8) has_pool: Apartment has a swimming pool as part of its amenities or shared facilities.(boolean)(categorical)\n",
    "\n",
    "9) neighborhood: Specific neighborhood or locality in which the apartment is situated within Barcelona.(Categorical)\n",
    "\n",
    "10) num_crimes: Count or frequency of reported crimes that have occurred in the vicinity of the apartment's location.\n",
    "\n",
    "11) has_ac: Apartment is equipped with an air conditioning system.(boolean)(categ)\n",
    "\n",
    "12) accepts_pets: It denotes whether the apartment allows or accepts pets as tenants or residents.\n",
    "\n",
    "13) num_supermarkets: Count or availability of supermarkets in close proximity to the apartment.\n",
    "\n",
    "#### price: It represents the price of the apartment, typically measured in a specific currency (e.g., Euros). It is the dependent variable in the prediction task and serves as the target value to be estimated or predicted using the other variables."
   ]
  },
  {
   "cell_type": "code",
   "execution_count": 5,
   "id": "75572df0",
   "metadata": {},
   "outputs": [
    {
     "name": "stdout",
     "output_type": "stream",
     "text": [
      "(8000, 15)\n",
      "(2000, 14)\n"
     ]
    }
   ],
   "source": [
    "# Shape of our dataset\n",
    "print(df.shape)\n",
    "print(dt.shape)"
   ]
  },
  {
   "cell_type": "markdown",
   "id": "de03a213",
   "metadata": {},
   "source": [
    "#### Interesting Features -  before preprocessing and exploration\n",
    "----------------Numerical\n",
    "- abs(square_meters) (good)\n",
    "- age\n",
    "- rooms per squaremeter\n",
    "- sqrmet per room\n",
    "- baths per rooms\n",
    "- rooms per bath\n",
    "- num_crimes (good)\n",
    "\n",
    "----------------Categorical\n",
    "- neighborhood (good)\n",
    "- is_furnished\n",
    "- age range\n",
    "- floor (good)\n",
    "- orientation\n",
    "\n",
    "----------------Other potential\n"
   ]
  },
  {
   "cell_type": "markdown",
   "id": "a9e294c5",
   "metadata": {},
   "source": [
    "### Variable modification"
   ]
  },
  {
   "cell_type": "code",
   "execution_count": 12,
   "id": "61df8690",
   "metadata": {},
   "outputs": [],
   "source": [
    "#transform negative square-meters to absolute values\n",
    "df['square_meters'] = df['square_meters'].abs()\n",
    "dt['square_meters'] = dt['square_meters'].abs()"
   ]
  },
  {
   "cell_type": "code",
   "execution_count": 13,
   "id": "8e462508",
   "metadata": {},
   "outputs": [],
   "source": [
    "#Floor of the apartment\n",
    "df['floor'] = df['door'].str[:1]\n",
    "dt['floor'] = dt['door'].str[:1]"
   ]
  },
  {
   "cell_type": "code",
   "execution_count": 14,
   "id": "59f5da35",
   "metadata": {},
   "outputs": [],
   "source": [
    "# Change floor data type to numeric\n",
    "df['floor'] = pd.to_numeric(df['floor'])\n",
    "dt['floor'] = pd.to_numeric(dt['floor'])"
   ]
  },
  {
   "cell_type": "code",
   "execution_count": 15,
   "id": "6471b635",
   "metadata": {},
   "outputs": [],
   "source": [
    "# Calculate age of apartment\n",
    "df['today'] = 2023\n",
    "df['age'] = df['today'] - df['year_built']\n",
    "dt['today'] = 2023\n",
    "dt['age'] = dt['today'] - dt['year_built']"
   ]
  },
  {
   "cell_type": "code",
   "execution_count": 16,
   "id": "25a2c654",
   "metadata": {},
   "outputs": [],
   "source": [
    "# Replace  True and False for 1 and 0\n",
    "# Replace 'soxth' for 'south'\n",
    "for i in df.columns:\n",
    "    df[i] = df[i].replace('soxth','south').replace(False,0).replace(True,1).replace('False',0).replace('True',1)"
   ]
  },
  {
   "cell_type": "code",
   "execution_count": 17,
   "id": "3ad4853d",
   "metadata": {},
   "outputs": [],
   "source": [
    "for i in dt.columns:\n",
    "    dt[i] = dt[i].replace('soxth','south').replace(False,0).replace(True,1).replace('False',0).replace('True',1)"
   ]
  },
  {
   "cell_type": "markdown",
   "id": "88306e23",
   "metadata": {},
   "source": [
    "#### Summary Statistics"
   ]
  },
  {
   "cell_type": "code",
   "execution_count": 23,
   "id": "1a3da924",
   "metadata": {},
   "outputs": [],
   "source": [
    "#Create dictionary for train set with summary statistics\n",
    "df_diction = pop_parameters_dict(df[['num_rooms','num_baths','square_meters','age','num_crimes','price','floor']])"
   ]
  },
  {
   "cell_type": "code",
   "execution_count": 24,
   "id": "bbde17ff",
   "metadata": {},
   "outputs": [],
   "source": [
    "#Create dictionary for test set with summary statistics\n",
    "dt_diction = pop_parameters_dict(dt[['num_rooms','num_baths','square_meters','age','num_crimes','floor']])"
   ]
  },
  {
   "cell_type": "code",
   "execution_count": 25,
   "id": "d2783a46",
   "metadata": {},
   "outputs": [
    {
     "data": {
      "text/html": [
       "<div>\n",
       "<style scoped>\n",
       "    .dataframe tbody tr th:only-of-type {\n",
       "        vertical-align: middle;\n",
       "    }\n",
       "\n",
       "    .dataframe tbody tr th {\n",
       "        vertical-align: top;\n",
       "    }\n",
       "\n",
       "    .dataframe thead th {\n",
       "        text-align: right;\n",
       "    }\n",
       "</style>\n",
       "<table border=\"1\" class=\"dataframe\">\n",
       "  <thead>\n",
       "    <tr style=\"text-align: right;\">\n",
       "      <th></th>\n",
       "      <th>size</th>\n",
       "      <th>datatype</th>\n",
       "      <th>unique_values</th>\n",
       "      <th>mean</th>\n",
       "      <th>stdv</th>\n",
       "      <th>min</th>\n",
       "      <th>per25</th>\n",
       "      <th>median</th>\n",
       "      <th>per75</th>\n",
       "      <th>max</th>\n",
       "      <th>IQRs</th>\n",
       "      <th>lower_bound</th>\n",
       "      <th>upper_bound</th>\n",
       "    </tr>\n",
       "  </thead>\n",
       "  <tbody>\n",
       "    <tr>\n",
       "      <th>num_rooms</th>\n",
       "      <td>8000</td>\n",
       "      <td>float64</td>\n",
       "      <td>39</td>\n",
       "      <td>2.87</td>\n",
       "      <td>5.30</td>\n",
       "      <td>1.0</td>\n",
       "      <td>1.00</td>\n",
       "      <td>2.0</td>\n",
       "      <td>4.0</td>\n",
       "      <td>97.0</td>\n",
       "      <td>3.00</td>\n",
       "      <td>0.00</td>\n",
       "      <td>8.50</td>\n",
       "    </tr>\n",
       "    <tr>\n",
       "      <th>num_baths</th>\n",
       "      <td>8000</td>\n",
       "      <td>float64</td>\n",
       "      <td>4</td>\n",
       "      <td>1.99</td>\n",
       "      <td>0.82</td>\n",
       "      <td>1.0</td>\n",
       "      <td>1.00</td>\n",
       "      <td>2.0</td>\n",
       "      <td>3.0</td>\n",
       "      <td>3.0</td>\n",
       "      <td>2.00</td>\n",
       "      <td>0.00</td>\n",
       "      <td>6.00</td>\n",
       "    </tr>\n",
       "    <tr>\n",
       "      <th>square_meters</th>\n",
       "      <td>8000</td>\n",
       "      <td>float64</td>\n",
       "      <td>145</td>\n",
       "      <td>109.16</td>\n",
       "      <td>35.37</td>\n",
       "      <td>2.0</td>\n",
       "      <td>79.00</td>\n",
       "      <td>110.0</td>\n",
       "      <td>140.0</td>\n",
       "      <td>170.0</td>\n",
       "      <td>61.00</td>\n",
       "      <td>0.00</td>\n",
       "      <td>231.50</td>\n",
       "    </tr>\n",
       "    <tr>\n",
       "      <th>age</th>\n",
       "      <td>8000</td>\n",
       "      <td>float64</td>\n",
       "      <td>73</td>\n",
       "      <td>37.68</td>\n",
       "      <td>20.59</td>\n",
       "      <td>2.0</td>\n",
       "      <td>20.00</td>\n",
       "      <td>38.0</td>\n",
       "      <td>55.0</td>\n",
       "      <td>73.0</td>\n",
       "      <td>35.00</td>\n",
       "      <td>0.00</td>\n",
       "      <td>107.50</td>\n",
       "    </tr>\n",
       "    <tr>\n",
       "      <th>num_crimes</th>\n",
       "      <td>8000</td>\n",
       "      <td>float64</td>\n",
       "      <td>12</td>\n",
       "      <td>2.80</td>\n",
       "      <td>3.45</td>\n",
       "      <td>0.0</td>\n",
       "      <td>0.00</td>\n",
       "      <td>1.0</td>\n",
       "      <td>6.0</td>\n",
       "      <td>10.0</td>\n",
       "      <td>6.00</td>\n",
       "      <td>0.00</td>\n",
       "      <td>15.00</td>\n",
       "    </tr>\n",
       "    <tr>\n",
       "      <th>price</th>\n",
       "      <td>8000</td>\n",
       "      <td>int64</td>\n",
       "      <td>1279</td>\n",
       "      <td>1099.62</td>\n",
       "      <td>271.67</td>\n",
       "      <td>195.0</td>\n",
       "      <td>905.75</td>\n",
       "      <td>1104.0</td>\n",
       "      <td>1295.0</td>\n",
       "      <td>2095.0</td>\n",
       "      <td>389.25</td>\n",
       "      <td>321.88</td>\n",
       "      <td>1878.88</td>\n",
       "    </tr>\n",
       "    <tr>\n",
       "      <th>floor</th>\n",
       "      <td>8000</td>\n",
       "      <td>float64</td>\n",
       "      <td>10</td>\n",
       "      <td>4.67</td>\n",
       "      <td>2.72</td>\n",
       "      <td>1.0</td>\n",
       "      <td>2.00</td>\n",
       "      <td>5.0</td>\n",
       "      <td>7.0</td>\n",
       "      <td>9.0</td>\n",
       "      <td>5.00</td>\n",
       "      <td>0.00</td>\n",
       "      <td>14.50</td>\n",
       "    </tr>\n",
       "  </tbody>\n",
       "</table>\n",
       "</div>"
      ],
      "text/plain": [
       "               size datatype  unique_values     mean    stdv    min   per25  \\\n",
       "num_rooms      8000  float64             39     2.87    5.30    1.0    1.00   \n",
       "num_baths      8000  float64              4     1.99    0.82    1.0    1.00   \n",
       "square_meters  8000  float64            145   109.16   35.37    2.0   79.00   \n",
       "age            8000  float64             73    37.68   20.59    2.0   20.00   \n",
       "num_crimes     8000  float64             12     2.80    3.45    0.0    0.00   \n",
       "price          8000    int64           1279  1099.62  271.67  195.0  905.75   \n",
       "floor          8000  float64             10     4.67    2.72    1.0    2.00   \n",
       "\n",
       "               median   per75     max    IQRs  lower_bound  upper_bound  \n",
       "num_rooms         2.0     4.0    97.0    3.00         0.00         8.50  \n",
       "num_baths         2.0     3.0     3.0    2.00         0.00         6.00  \n",
       "square_meters   110.0   140.0   170.0   61.00         0.00       231.50  \n",
       "age              38.0    55.0    73.0   35.00         0.00       107.50  \n",
       "num_crimes        1.0     6.0    10.0    6.00         0.00        15.00  \n",
       "price          1104.0  1295.0  2095.0  389.25       321.88      1878.88  \n",
       "floor             5.0     7.0     9.0    5.00         0.00        14.50  "
      ]
     },
     "execution_count": 25,
     "metadata": {},
     "output_type": "execute_result"
    }
   ],
   "source": [
    "pop_parameters(df[['num_rooms','num_baths','square_meters','age','num_crimes','price','floor']])"
   ]
  },
  {
   "cell_type": "code",
   "execution_count": 26,
   "id": "26d9504f",
   "metadata": {},
   "outputs": [
    {
     "data": {
      "image/png": "[encoded data removed]",
      "text/plain": [
       "<Figure size 1332x1008 with 9 Axes>"
      ]
     },
     "metadata": {
      "needs_background": "light"
     },
     "output_type": "display_data"
    }
   ],
   "source": [
    "plot_hist_mult(df[['num_rooms','num_baths','square_meters','age','num_crimes','price','floor']],3,3,30)"
   ]
  },
  {
   "cell_type": "code",
   "execution_count": 27,
   "id": "fa8c21fc",
   "metadata": {},
   "outputs": [
    {
     "data": {
      "image/png": "[encoded data removed]",
      "text/plain": [
       "<Figure size 1332x1008 with 9 Axes>"
      ]
     },
     "metadata": {
      "needs_background": "light"
     },
     "output_type": "display_data"
    }
   ],
   "source": [
    "plot_box_mult(df[['num_rooms','num_baths','square_meters','age','num_crimes','price','floor']],3,3)"
   ]
  },
  {
   "cell_type": "markdown",
   "id": "7a3db17e",
   "metadata": {},
   "source": [
    "### Outlier Treatment"
   ]
  },
  {
   "cell_type": "code",
   "execution_count": 17,
   "id": "bb1d3375",
   "metadata": {},
   "outputs": [
    {
     "data": {
      "image/png": "[encoded data removed]",
      "text/plain": [
       "<Figure size 640x480 with 1 Axes>"
      ]
     },
     "metadata": {},
     "output_type": "display_data"
    }
   ],
   "source": [
    "plt.scatter(df['num_rooms'],df['square_meters'])\n",
    "plt.xlim(0,20)\n",
    "plt.show()"
   ]
  },
  {
   "cell_type": "markdown",
   "id": "a972bad4",
   "metadata": {},
   "source": [
    "##### Dealing with Number of Rooms"
   ]
  },
  {
   "cell_type": "code",
   "execution_count": 28,
   "id": "96b6032d",
   "metadata": {},
   "outputs": [],
   "source": [
    "#Train\n",
    "df.loc[df[\"num_rooms\"] > df_diction['num_rooms']['upper_bound'], \"num_rooms\"] = df_diction['num_rooms']['median']"
   ]
  },
  {
   "cell_type": "code",
   "execution_count": 29,
   "id": "e87aeeab",
   "metadata": {},
   "outputs": [],
   "source": [
    "#Test\n",
    "dt.loc[dt[\"num_rooms\"] > dt_diction['num_rooms']['upper_bound'], \"num_rooms\"] = dt_diction['num_rooms']['median']"
   ]
  },
  {
   "cell_type": "markdown",
   "id": "7c9f2f66",
   "metadata": {},
   "source": [
    "### Exploring Square-meters"
   ]
  },
  {
   "cell_type": "code",
   "execution_count": 20,
   "id": "8bbe512b",
   "metadata": {},
   "outputs": [
    {
     "data": {
      "image/png": "[encoded data removed]",
      "text/plain": [
       "<Figure size 640x480 with 1 Axes>"
      ]
     },
     "metadata": {},
     "output_type": "display_data"
    }
   ],
   "source": [
    "plt.scatter(df['square_meters'],df['price'])\n",
    "plt.show()"
   ]
  },
  {
   "cell_type": "markdown",
   "id": "6884bc4b",
   "metadata": {},
   "source": [
    "##### Replacing outlier sqr meters with nans"
   ]
  },
  {
   "cell_type": "code",
   "execution_count": 30,
   "id": "b9422602",
   "metadata": {},
   "outputs": [],
   "source": [
    "#Train\n",
    "df.loc[df[\"square_meters\"] < 50, \"square_meters\"] = np.nan"
   ]
  },
  {
   "cell_type": "code",
   "execution_count": 31,
   "id": "dc281e6d",
   "metadata": {},
   "outputs": [],
   "source": [
    "#Test\n",
    "dt.loc[df[\"square_meters\"] < 50, \"square_meters\"] = np.nan"
   ]
  },
  {
   "cell_type": "markdown",
   "id": "33f4f0d1",
   "metadata": {},
   "source": [
    "## Managing Missing Values"
   ]
  },
  {
   "cell_type": "code",
   "execution_count": 32,
   "id": "cf0ac69f",
   "metadata": {},
   "outputs": [
    {
     "data": {
      "text/plain": [
       "id                  0.00\n",
       "num_rooms           0.00\n",
       "num_baths           0.02\n",
       "square_meters       0.02\n",
       "orientation         0.29\n",
       "year_built          0.02\n",
       "door                0.02\n",
       "is_furnished        0.02\n",
       "has_pool            0.02\n",
       "neighborhood        0.02\n",
       "num_crimes          0.02\n",
       "has_ac              0.02\n",
       "accepts_pets        0.02\n",
       "num_supermarkets    0.82\n",
       "price               0.00\n",
       "floor               0.02\n",
       "today               0.00\n",
       "age                 0.02\n",
       "dtype: float64"
      ]
     },
     "execution_count": 32,
     "metadata": {},
     "output_type": "execute_result"
    }
   ],
   "source": [
    "# Check for % missing values\n",
    "df.isna().mean().round(2)"
   ]
  },
  {
   "cell_type": "code",
   "execution_count": 24,
   "id": "88e9bff4",
   "metadata": {},
   "outputs": [
    {
     "data": {
      "text/plain": [
       "<AxesSubplot:>"
      ]
     },
     "execution_count": 24,
     "metadata": {},
     "output_type": "execute_result"
    },
    {
     "data": {
      "image/png": "[encoded data removed]",
      "text/plain": [
       "<Figure size 2500x1000 with 2 Axes>"
      ]
     },
     "metadata": {},
     "output_type": "display_data"
    }
   ],
   "source": [
    "#  Take a look at the location of the missing values\n",
    "msno.matrix(df)"
   ]
  },
  {
   "cell_type": "markdown",
   "id": "2147a6e5",
   "metadata": {},
   "source": [
    "### Correlation of missing values between columns"
   ]
  },
  {
   "cell_type": "code",
   "execution_count": 25,
   "id": "f01a12cd",
   "metadata": {},
   "outputs": [],
   "source": [
    "#msno.heatmap(df)"
   ]
  },
  {
   "cell_type": "code",
   "execution_count": 26,
   "id": "25f737ab",
   "metadata": {},
   "outputs": [],
   "source": [
    "#msno.dendrogram(df)"
   ]
  },
  {
   "cell_type": "code",
   "execution_count": 33,
   "id": "25c9a219",
   "metadata": {},
   "outputs": [
    {
     "data": {
      "text/plain": [
       "Index(['id', 'num_rooms', 'num_baths', 'square_meters', 'orientation',\n",
       "       'year_built', 'door', 'is_furnished', 'has_pool', 'neighborhood',\n",
       "       'num_crimes', 'has_ac', 'accepts_pets', 'num_supermarkets', 'price',\n",
       "       'floor', 'today', 'age'],\n",
       "      dtype='object')"
      ]
     },
     "execution_count": 33,
     "metadata": {},
     "output_type": "execute_result"
    }
   ],
   "source": [
    "df.columns"
   ]
  },
  {
   "cell_type": "code",
   "execution_count": 34,
   "id": "e83dc091",
   "metadata": {},
   "outputs": [],
   "source": [
    "df2 = df.copy()"
   ]
  },
  {
   "cell_type": "markdown",
   "id": "45ce2f5c",
   "metadata": {},
   "source": [
    "### Missing Value Imputations"
   ]
  },
  {
   "cell_type": "code",
   "execution_count": 35,
   "id": "c24fa46f",
   "metadata": {},
   "outputs": [],
   "source": [
    "#train, variables of interest\n",
    "variables = ['square_meters','age','orientation','floor','num_rooms','num_baths','accepts_pets','has_pool','num_crimes','has_ac','is_furnished','price']"
   ]
  },
  {
   "cell_type": "code",
   "execution_count": 36,
   "id": "4c2ec02e",
   "metadata": {},
   "outputs": [],
   "source": [
    "#test, variables of interest (No Price)\n",
    "variables_t = ['square_meters','age','orientation','floor','num_rooms','num_baths','accepts_pets','has_pool','num_crimes','has_ac','is_furnished']"
   ]
  },
  {
   "cell_type": "code",
   "execution_count": 37,
   "id": "59112efb",
   "metadata": {},
   "outputs": [],
   "source": [
    "#Create impt code for orientation\n",
    "df['orientation'] = df['orientation'].replace('south',1).replace('west',2).replace('north',3).replace('east',4)\n",
    "dt['orientation'] = dt['orientation'].replace('south',1).replace('west',2).replace('north',3).replace('east',4)"
   ]
  },
  {
   "cell_type": "code",
   "execution_count": 38,
   "id": "05ec0508",
   "metadata": {},
   "outputs": [],
   "source": [
    "#KNN imputation in Train data\n",
    "\n",
    "# Create KNNImputer object with k=3\n",
    "imputer = KNNImputer(n_neighbors=3)\n",
    "# Perform KNN imputation\n",
    "imputed_data = imputer.fit_transform(df[variables])\n",
    "# Update the original DataFrame with imputed values\n",
    "df[variables] = imputed_data"
   ]
  },
  {
   "cell_type": "code",
   "execution_count": 39,
   "id": "189f7947",
   "metadata": {},
   "outputs": [
    {
     "data": {
      "text/html": [
       "<div>\n",
       "<style scoped>\n",
       "    .dataframe tbody tr th:only-of-type {\n",
       "        vertical-align: middle;\n",
       "    }\n",
       "\n",
       "    .dataframe tbody tr th {\n",
       "        vertical-align: top;\n",
       "    }\n",
       "\n",
       "    .dataframe thead th {\n",
       "        text-align: right;\n",
       "    }\n",
       "</style>\n",
       "<table border=\"1\" class=\"dataframe\">\n",
       "  <thead>\n",
       "    <tr style=\"text-align: right;\">\n",
       "      <th></th>\n",
       "      <th>id</th>\n",
       "      <th>num_rooms</th>\n",
       "      <th>num_baths</th>\n",
       "      <th>square_meters</th>\n",
       "      <th>orientation</th>\n",
       "      <th>year_built</th>\n",
       "      <th>door</th>\n",
       "      <th>is_furnished</th>\n",
       "      <th>has_pool</th>\n",
       "      <th>neighborhood</th>\n",
       "      <th>num_crimes</th>\n",
       "      <th>has_ac</th>\n",
       "      <th>accepts_pets</th>\n",
       "      <th>num_supermarkets</th>\n",
       "      <th>price</th>\n",
       "      <th>floor</th>\n",
       "      <th>today</th>\n",
       "      <th>age</th>\n",
       "    </tr>\n",
       "  </thead>\n",
       "  <tbody>\n",
       "    <tr>\n",
       "      <th>0</th>\n",
       "      <td>9255</td>\n",
       "      <td>1.0</td>\n",
       "      <td>1.0</td>\n",
       "      <td>88.000000</td>\n",
       "      <td>3.666667</td>\n",
       "      <td>1956.0</td>\n",
       "      <td>3º - 1a</td>\n",
       "      <td>0.0</td>\n",
       "      <td>0.0</td>\n",
       "      <td>Sant Martí</td>\n",
       "      <td>2.0</td>\n",
       "      <td>1.0</td>\n",
       "      <td>1.0</td>\n",
       "      <td>NaN</td>\n",
       "      <td>1096.0</td>\n",
       "      <td>3.0</td>\n",
       "      <td>2023</td>\n",
       "      <td>67.0</td>\n",
       "    </tr>\n",
       "    <tr>\n",
       "      <th>1</th>\n",
       "      <td>1562</td>\n",
       "      <td>4.0</td>\n",
       "      <td>1.0</td>\n",
       "      <td>133.000000</td>\n",
       "      <td>2.000000</td>\n",
       "      <td>1960.0</td>\n",
       "      <td>7º - 2a</td>\n",
       "      <td>0.0</td>\n",
       "      <td>0.0</td>\n",
       "      <td>Sants</td>\n",
       "      <td>4.0</td>\n",
       "      <td>0.0</td>\n",
       "      <td>0.0</td>\n",
       "      <td>2.0</td>\n",
       "      <td>1396.0</td>\n",
       "      <td>7.0</td>\n",
       "      <td>2023</td>\n",
       "      <td>63.0</td>\n",
       "    </tr>\n",
       "    <tr>\n",
       "      <th>2</th>\n",
       "      <td>1671</td>\n",
       "      <td>2.0</td>\n",
       "      <td>3.0</td>\n",
       "      <td>137.000000</td>\n",
       "      <td>2.000000</td>\n",
       "      <td>2000.0</td>\n",
       "      <td>1º - 1a</td>\n",
       "      <td>0.0</td>\n",
       "      <td>1.0</td>\n",
       "      <td>Eixample</td>\n",
       "      <td>0.0</td>\n",
       "      <td>0.0</td>\n",
       "      <td>0.0</td>\n",
       "      <td>NaN</td>\n",
       "      <td>1263.0</td>\n",
       "      <td>1.0</td>\n",
       "      <td>2023</td>\n",
       "      <td>23.0</td>\n",
       "    </tr>\n",
       "    <tr>\n",
       "      <th>3</th>\n",
       "      <td>6088</td>\n",
       "      <td>1.0</td>\n",
       "      <td>2.0</td>\n",
       "      <td>136.333333</td>\n",
       "      <td>2.333333</td>\n",
       "      <td>2002.0</td>\n",
       "      <td>6º - 1a</td>\n",
       "      <td>0.0</td>\n",
       "      <td>1.0</td>\n",
       "      <td>Sants</td>\n",
       "      <td>5.0</td>\n",
       "      <td>0.0</td>\n",
       "      <td>0.0</td>\n",
       "      <td>NaN</td>\n",
       "      <td>1290.0</td>\n",
       "      <td>6.0</td>\n",
       "      <td>2023</td>\n",
       "      <td>21.0</td>\n",
       "    </tr>\n",
       "    <tr>\n",
       "      <th>4</th>\n",
       "      <td>6670</td>\n",
       "      <td>2.0</td>\n",
       "      <td>1.0</td>\n",
       "      <td>70.000000</td>\n",
       "      <td>3.333333</td>\n",
       "      <td>1979.0</td>\n",
       "      <td>5º - 1a</td>\n",
       "      <td>1.0</td>\n",
       "      <td>0.0</td>\n",
       "      <td>Gràcia</td>\n",
       "      <td>0.0</td>\n",
       "      <td>0.0</td>\n",
       "      <td>1.0</td>\n",
       "      <td>3.0</td>\n",
       "      <td>962.0</td>\n",
       "      <td>5.0</td>\n",
       "      <td>2023</td>\n",
       "      <td>44.0</td>\n",
       "    </tr>\n",
       "  </tbody>\n",
       "</table>\n",
       "</div>"
      ],
      "text/plain": [
       "     id  num_rooms  num_baths  square_meters  orientation  year_built  \\\n",
       "0  9255        1.0        1.0      88.000000     3.666667      1956.0   \n",
       "1  1562        4.0        1.0     133.000000     2.000000      1960.0   \n",
       "2  1671        2.0        3.0     137.000000     2.000000      2000.0   \n",
       "3  6088        1.0        2.0     136.333333     2.333333      2002.0   \n",
       "4  6670        2.0        1.0      70.000000     3.333333      1979.0   \n",
       "\n",
       "      door  is_furnished  has_pool neighborhood  num_crimes  has_ac  \\\n",
       "0  3º - 1a           0.0       0.0   Sant Martí         2.0     1.0   \n",
       "1  7º - 2a           0.0       0.0        Sants         4.0     0.0   \n",
       "2  1º - 1a           0.0       1.0     Eixample         0.0     0.0   \n",
       "3  6º - 1a           0.0       1.0        Sants         5.0     0.0   \n",
       "4  5º - 1a           1.0       0.0       Gràcia         0.0     0.0   \n",
       "\n",
       "   accepts_pets  num_supermarkets   price  floor  today   age  \n",
       "0           1.0               NaN  1096.0    3.0   2023  67.0  \n",
       "1           0.0               2.0  1396.0    7.0   2023  63.0  \n",
       "2           0.0               NaN  1263.0    1.0   2023  23.0  \n",
       "3           0.0               NaN  1290.0    6.0   2023  21.0  \n",
       "4           1.0               3.0   962.0    5.0   2023  44.0  "
      ]
     },
     "execution_count": 39,
     "metadata": {},
     "output_type": "execute_result"
    }
   ],
   "source": [
    "df.head()"
   ]
  },
  {
   "cell_type": "code",
   "execution_count": 42,
   "id": "6c98c496",
   "metadata": {},
   "outputs": [],
   "source": [
    "#KNN imputation in Train data\n",
    "\n",
    "# Create KNNImputer object with k=3\n",
    "imputer1 = KNNImputer(n_neighbors=3)\n",
    "# Perform KNN imputation\n",
    "imputed_datas = imputer1.fit_transform(dt[variables_t])\n",
    "# Update the original DataFrame with imputed values\n",
    "dt[variables_t] = imputed_datas"
   ]
  },
  {
   "cell_type": "code",
   "execution_count": 43,
   "id": "551a49f8",
   "metadata": {},
   "outputs": [
    {
     "data": {
      "text/html": [
       "<div>\n",
       "<style scoped>\n",
       "    .dataframe tbody tr th:only-of-type {\n",
       "        vertical-align: middle;\n",
       "    }\n",
       "\n",
       "    .dataframe tbody tr th {\n",
       "        vertical-align: top;\n",
       "    }\n",
       "\n",
       "    .dataframe thead th {\n",
       "        text-align: right;\n",
       "    }\n",
       "</style>\n",
       "<table border=\"1\" class=\"dataframe\">\n",
       "  <thead>\n",
       "    <tr style=\"text-align: right;\">\n",
       "      <th></th>\n",
       "      <th>id</th>\n",
       "      <th>num_rooms</th>\n",
       "      <th>num_baths</th>\n",
       "      <th>square_meters</th>\n",
       "      <th>orientation</th>\n",
       "      <th>year_built</th>\n",
       "      <th>door</th>\n",
       "      <th>is_furnished</th>\n",
       "      <th>has_pool</th>\n",
       "      <th>neighborhood</th>\n",
       "      <th>num_crimes</th>\n",
       "      <th>has_ac</th>\n",
       "      <th>accepts_pets</th>\n",
       "      <th>num_supermarkets</th>\n",
       "      <th>floor</th>\n",
       "      <th>today</th>\n",
       "      <th>age</th>\n",
       "    </tr>\n",
       "  </thead>\n",
       "  <tbody>\n",
       "    <tr>\n",
       "      <th>0</th>\n",
       "      <td>6253</td>\n",
       "      <td>2.000000</td>\n",
       "      <td>1.0</td>\n",
       "      <td>152.0</td>\n",
       "      <td>2.000000</td>\n",
       "      <td>2012.0</td>\n",
       "      <td>5º - 4a</td>\n",
       "      <td>1.0</td>\n",
       "      <td>1.0</td>\n",
       "      <td>Les Cors</td>\n",
       "      <td>0.0</td>\n",
       "      <td>0.0</td>\n",
       "      <td>0.0</td>\n",
       "      <td>NaN</td>\n",
       "      <td>5.0</td>\n",
       "      <td>2023</td>\n",
       "      <td>11.0</td>\n",
       "    </tr>\n",
       "    <tr>\n",
       "      <th>1</th>\n",
       "      <td>4685</td>\n",
       "      <td>3.000000</td>\n",
       "      <td>2.0</td>\n",
       "      <td>90.0</td>\n",
       "      <td>4.000000</td>\n",
       "      <td>1957.0</td>\n",
       "      <td>10º - 1a</td>\n",
       "      <td>1.0</td>\n",
       "      <td>0.0</td>\n",
       "      <td>Ciutat Vella</td>\n",
       "      <td>2.0</td>\n",
       "      <td>0.0</td>\n",
       "      <td>1.0</td>\n",
       "      <td>3.0</td>\n",
       "      <td>1.0</td>\n",
       "      <td>2023</td>\n",
       "      <td>66.0</td>\n",
       "    </tr>\n",
       "    <tr>\n",
       "      <th>2</th>\n",
       "      <td>1732</td>\n",
       "      <td>3.333333</td>\n",
       "      <td>2.0</td>\n",
       "      <td>86.0</td>\n",
       "      <td>3.333333</td>\n",
       "      <td>1991.0</td>\n",
       "      <td>5º - 2a</td>\n",
       "      <td>0.0</td>\n",
       "      <td>0.0</td>\n",
       "      <td>Eixample</td>\n",
       "      <td>0.0</td>\n",
       "      <td>0.0</td>\n",
       "      <td>1.0</td>\n",
       "      <td>NaN</td>\n",
       "      <td>5.0</td>\n",
       "      <td>2023</td>\n",
       "      <td>32.0</td>\n",
       "    </tr>\n",
       "    <tr>\n",
       "      <th>3</th>\n",
       "      <td>4743</td>\n",
       "      <td>3.333333</td>\n",
       "      <td>3.0</td>\n",
       "      <td>164.0</td>\n",
       "      <td>2.333333</td>\n",
       "      <td>2002.0</td>\n",
       "      <td>8º - 4a</td>\n",
       "      <td>0.0</td>\n",
       "      <td>1.0</td>\n",
       "      <td>Nou Barris</td>\n",
       "      <td>7.0</td>\n",
       "      <td>0.0</td>\n",
       "      <td>0.0</td>\n",
       "      <td>NaN</td>\n",
       "      <td>8.0</td>\n",
       "      <td>2023</td>\n",
       "      <td>21.0</td>\n",
       "    </tr>\n",
       "    <tr>\n",
       "      <th>4</th>\n",
       "      <td>4522</td>\n",
       "      <td>2.000000</td>\n",
       "      <td>1.0</td>\n",
       "      <td>99.0</td>\n",
       "      <td>3.000000</td>\n",
       "      <td>1984.0</td>\n",
       "      <td>8º - 4a</td>\n",
       "      <td>1.0</td>\n",
       "      <td>1.0</td>\n",
       "      <td>Sant Andreu</td>\n",
       "      <td>0.0</td>\n",
       "      <td>1.0</td>\n",
       "      <td>0.0</td>\n",
       "      <td>3.0</td>\n",
       "      <td>8.0</td>\n",
       "      <td>2023</td>\n",
       "      <td>39.0</td>\n",
       "    </tr>\n",
       "  </tbody>\n",
       "</table>\n",
       "</div>"
      ],
      "text/plain": [
       "     id  num_rooms  num_baths  square_meters  orientation  year_built  \\\n",
       "0  6253   2.000000        1.0          152.0     2.000000      2012.0   \n",
       "1  4685   3.000000        2.0           90.0     4.000000      1957.0   \n",
       "2  1732   3.333333        2.0           86.0     3.333333      1991.0   \n",
       "3  4743   3.333333        3.0          164.0     2.333333      2002.0   \n",
       "4  4522   2.000000        1.0           99.0     3.000000      1984.0   \n",
       "\n",
       "       door  is_furnished  has_pool  neighborhood  num_crimes  has_ac  \\\n",
       "0   5º - 4a           1.0       1.0      Les Cors         0.0     0.0   \n",
       "1  10º - 1a           1.0       0.0  Ciutat Vella         2.0     0.0   \n",
       "2   5º - 2a           0.0       0.0      Eixample         0.0     0.0   \n",
       "3   8º - 4a           0.0       1.0    Nou Barris         7.0     0.0   \n",
       "4   8º - 4a           1.0       1.0   Sant Andreu         0.0     1.0   \n",
       "\n",
       "   accepts_pets  num_supermarkets  floor  today   age  \n",
       "0           0.0               NaN    5.0   2023  11.0  \n",
       "1           1.0               3.0    1.0   2023  66.0  \n",
       "2           1.0               NaN    5.0   2023  32.0  \n",
       "3           0.0               NaN    8.0   2023  21.0  \n",
       "4           0.0               3.0    8.0   2023  39.0  "
      ]
     },
     "execution_count": 43,
     "metadata": {},
     "output_type": "execute_result"
    }
   ],
   "source": [
    "dt.head()"
   ]
  },
  {
   "cell_type": "code",
   "execution_count": 44,
   "id": "86c89179",
   "metadata": {},
   "outputs": [
    {
     "data": {
      "text/plain": [
       "id                  0.00\n",
       "num_rooms           0.00\n",
       "num_baths           0.00\n",
       "square_meters       0.00\n",
       "orientation         0.00\n",
       "year_built          0.02\n",
       "door                0.02\n",
       "is_furnished        0.00\n",
       "has_pool            0.00\n",
       "neighborhood        0.02\n",
       "num_crimes          0.00\n",
       "has_ac              0.00\n",
       "accepts_pets        0.00\n",
       "num_supermarkets    0.82\n",
       "price               0.00\n",
       "floor               0.00\n",
       "today               0.00\n",
       "age                 0.00\n",
       "dtype: float64"
      ]
     },
     "execution_count": 44,
     "metadata": {},
     "output_type": "execute_result"
    }
   ],
   "source": [
    "# Check for % missing values\n",
    "df.isna().mean().round(2)"
   ]
  },
  {
   "cell_type": "code",
   "execution_count": 46,
   "id": "7ab6ca5d",
   "metadata": {},
   "outputs": [],
   "source": [
    "df33 = df.copy()"
   ]
  },
  {
   "cell_type": "code",
   "execution_count": 47,
   "id": "0047d987",
   "metadata": {},
   "outputs": [],
   "source": [
    "# Calculating the mean crime for each neighborhood\n",
    "mean_crime = df.groupby('neighborhood')['num_crimes'].mean()\n",
    "\n",
    "# Encoding the categorical variable 'Country' using target encoding\n",
    "df['neighborhood_Encoded'] = df['neighborhood'].map(mean_crime)"
   ]
  },
  {
   "cell_type": "code",
   "execution_count": 48,
   "id": "a19be93e",
   "metadata": {},
   "outputs": [],
   "source": [
    "# Calculating the mean crime for each neighborhood\n",
    "mean_crime = dt.groupby('neighborhood')['num_crimes'].mean()\n",
    "\n",
    "# Encoding the categorical variable 'Country' using target encoding\n",
    "dt['neighborhood_Encoded'] = dt['neighborhood'].map(mean_crime)"
   ]
  },
  {
   "cell_type": "code",
   "execution_count": 49,
   "id": "b193ace5",
   "metadata": {},
   "outputs": [],
   "source": [
    "# Calculating the mean mkt for each neighborhood\n",
    "mean_m = df.groupby('neighborhood')['num_supermarkets'].mean()\n",
    "\n",
    "# Encoding the categorical variable 'market' using target encoding\n",
    "df['supermarkets_Encoded'] = df['neighborhood'].map(mean_m)"
   ]
  },
  {
   "cell_type": "code",
   "execution_count": 50,
   "id": "4383a2fb",
   "metadata": {},
   "outputs": [],
   "source": [
    "# Calculating the mean mkt for each neighborhood\n",
    "mean_m = dt.groupby('neighborhood')['num_supermarkets'].mean()\n",
    "\n",
    "# Encoding the categorical variable 'market' using target encoding\n",
    "dt['supermarkets_Encoded'] = dt['neighborhood'].map(mean_m)"
   ]
  },
  {
   "cell_type": "code",
   "execution_count": 42,
   "id": "eeb30c2b",
   "metadata": {},
   "outputs": [],
   "source": [
    "# Remove Columns\n",
    "#df = df.drop(['today','num_supermarkets','neighborhood','door','year_built'], axis=1)"
   ]
  },
  {
   "cell_type": "markdown",
   "id": "d77bd38e",
   "metadata": {},
   "source": [
    "### Creating  dummies"
   ]
  },
  {
   "cell_type": "code",
   "execution_count": 43,
   "id": "624b8e19",
   "metadata": {},
   "outputs": [],
   "source": [
    "#plt.scatter(df['age'],df['price'])\n",
    "#plt.show()"
   ]
  },
  {
   "cell_type": "code",
   "execution_count": 52,
   "id": "c808af06",
   "metadata": {},
   "outputs": [],
   "source": [
    "#New Range\n",
    "df['age_range'] = np.where(df['age']<25, '0-25 years',\n",
    "                   np.where(df['age']<50, '25-50 years',\n",
    "                   np.where(df['age']<75, '50-75 years', \n",
    "                   np.where(df['age']<100,'75-100 years','>100 years'))))"
   ]
  },
  {
   "cell_type": "code",
   "execution_count": 53,
   "id": "57daf6c7",
   "metadata": {},
   "outputs": [],
   "source": [
    "#New Range\n",
    "dt['age_range'] = np.where(dt['age']<25, '0-25 years',\n",
    "                   np.where(dt['age']<50, '25-50 years',\n",
    "                   np.where(dt['age']<75, '50-75 years', \n",
    "                   np.where(dt['age']<100,'75-100 years','>100 years'))))"
   ]
  },
  {
   "cell_type": "code",
   "execution_count": 54,
   "id": "57b8789b",
   "metadata": {},
   "outputs": [],
   "source": [
    "#Return Orientation to original values\n",
    "df['orientation'] = df['orientation'].round(0)\n",
    "dt['orientation'] = dt['orientation'].round(0)"
   ]
  },
  {
   "cell_type": "code",
   "execution_count": 55,
   "id": "5dc50b55",
   "metadata": {},
   "outputs": [],
   "source": [
    "#Create impt code for neighborhood\n",
    "df['orientation'] = df['orientation'].replace(1,'south').replace(2,'west').replace(3,'north').replace(4,'east')\n",
    "dt['orientation'] = dt['orientation'].replace(1,'south').replace(2,'west').replace(3,'north').replace(4,'east')"
   ]
  },
  {
   "cell_type": "code",
   "execution_count": 56,
   "id": "4bad9b66",
   "metadata": {},
   "outputs": [],
   "source": [
    "#Change variables again\n",
    "variables = ['square_meters','age','floor','num_rooms','num_baths','accepts_pets','has_pool','num_crimes','has_ac','is_furnished','price','neighborhood_Encoded','supermarkets_Encoded']\n",
    "variables_t = ['square_meters','age','floor','num_rooms','num_baths','accepts_pets','has_pool','num_crimes','has_ac','is_furnished','neighborhood_Encoded','supermarkets_Encoded']\n"
   ]
  },
  {
   "cell_type": "code",
   "execution_count": 57,
   "id": "8cd2955e",
   "metadata": {},
   "outputs": [],
   "source": [
    "# Perform KNN imputation to obtain missing encoded neighborhood\n",
    "imputer = KNNImputer(n_neighbors=3)\n",
    "imputed_data = imputer.fit_transform(df[variables])\n",
    "\n",
    "# Update the original DataFrame with imputed values\n",
    "df[variables] = imputed_data"
   ]
  },
  {
   "cell_type": "code",
   "execution_count": 58,
   "id": "35c124bc",
   "metadata": {},
   "outputs": [],
   "source": [
    "# Perform KNN imputation to obtain missing encoded neighborhood\n",
    "imputer_t = KNNImputer(n_neighbors=3)\n",
    "imputed_data_t = imputer_t.fit_transform(dt[variables_t])\n",
    "\n",
    "# Update the original DataFrame with imputed values\n",
    "dt[variables_t] = imputed_data_t"
   ]
  },
  {
   "cell_type": "markdown",
   "id": "d88170d1",
   "metadata": {},
   "source": [
    "####  Create Dummy variables for age_range and orientation"
   ]
  },
  {
   "cell_type": "code",
   "execution_count": 59,
   "id": "5bc46ebd",
   "metadata": {},
   "outputs": [],
   "source": [
    "# Apply one-hot encoding to orientation\n",
    "dummies = pd.get_dummies(df['orientation'], prefix='o')\n",
    "df= pd.concat([df, dummies], axis=1)"
   ]
  },
  {
   "cell_type": "code",
   "execution_count": 60,
   "id": "2a025a4f",
   "metadata": {},
   "outputs": [],
   "source": [
    "# Apply one-hot encoding to orientation\n",
    "dummies = pd.get_dummies(dt['orientation'], prefix='o')\n",
    "dt= pd.concat([dt, dummies], axis=1)"
   ]
  },
  {
   "cell_type": "code",
   "execution_count": 61,
   "id": "0789000f",
   "metadata": {},
   "outputs": [],
   "source": [
    "# Apply one-hot encoding to age range\n",
    "dummies_2 = pd.get_dummies(df['age_range'], prefix='a')\n",
    "df = pd.concat([df, dummies_2], axis=1)"
   ]
  },
  {
   "cell_type": "code",
   "execution_count": 62,
   "id": "ad120126",
   "metadata": {},
   "outputs": [],
   "source": [
    "# Apply one-hot encoding to age range\n",
    "dummies_t = pd.get_dummies(dt['age_range'], prefix='a')\n",
    "dt = pd.concat([dt, dummies_t], axis=1)"
   ]
  },
  {
   "cell_type": "markdown",
   "id": "cac00402",
   "metadata": {},
   "source": [
    "### Creation of new variables"
   ]
  },
  {
   "cell_type": "code",
   "execution_count": 63,
   "id": "ff4a16f1",
   "metadata": {},
   "outputs": [],
   "source": [
    "df['baths_per_room'] = df['num_baths']/df['num_rooms']\n",
    "df['sqrmt_per_room'] = df['square_meters']/df['num_rooms']\n",
    "df['rooms_per_sqrmt'] = df['num_rooms']/df['square_meters']"
   ]
  },
  {
   "cell_type": "code",
   "execution_count": 64,
   "id": "40d8bb10",
   "metadata": {},
   "outputs": [],
   "source": [
    "dt['baths_per_room'] = dt['num_baths']/dt['num_rooms']\n",
    "dt['sqrmt_per_room'] = dt['square_meters']/dt['num_rooms']\n",
    "dt['rooms_per_sqrmt'] = dt['num_rooms']/dt['square_meters']"
   ]
  },
  {
   "cell_type": "code",
   "execution_count": 57,
   "id": "698ca120",
   "metadata": {},
   "outputs": [],
   "source": [
    "#df_age = df['age_range'].value_counts().reset_index()"
   ]
  },
  {
   "cell_type": "code",
   "execution_count": 58,
   "id": "947ecff3",
   "metadata": {},
   "outputs": [],
   "source": [
    "#plt.bar(df_age['index'],df_age['age_range'])\n",
    "#plt.show()\n",
    "#df.columns.to_list()"
   ]
  },
  {
   "cell_type": "markdown",
   "id": "01ddf60c",
   "metadata": {},
   "source": [
    "### Correlation and Multicolinearity"
   ]
  },
  {
   "cell_type": "code",
   "execution_count": 65,
   "id": "4fa7b71d",
   "metadata": {},
   "outputs": [],
   "source": [
    "#Change variables again\n",
    "variables = ['id',\n",
    " 'num_rooms',\n",
    " 'num_baths',\n",
    " 'square_meters',\n",
    " 'is_furnished',\n",
    " 'has_pool',\n",
    " 'num_crimes',\n",
    " 'has_ac',\n",
    " 'accepts_pets',\n",
    " 'price',\n",
    " 'floor',\n",
    " 'age',\n",
    " 'neighborhood_Encoded',\n",
    " 'o_east',\n",
    " 'o_north',\n",
    " 'o_south',\n",
    " 'o_west',\n",
    " 'a_0-25 years',\n",
    " 'a_25-50 years',\n",
    " 'a_50-75 years',\n",
    " 'supermarkets_Encoded',\n",
    " 'baths_per_room',\n",
    " 'sqrmt_per_room',\n",
    " 'rooms_per_sqrmt']"
   ]
  },
  {
   "cell_type": "code",
   "execution_count": 66,
   "id": "700dc2b5",
   "metadata": {},
   "outputs": [],
   "source": [
    "#Change variables again\n",
    "variables_y = [\n",
    " 'num_rooms',\n",
    " 'num_baths',\n",
    " 'square_meters',\n",
    " 'num_crimes',\n",
    " 'price',\n",
    " 'floor',\n",
    " 'age',\n",
    " 'neighborhood_Encoded',\n",
    " 'o_east',\n",
    " 'o_north',\n",
    " 'o_south',\n",
    " 'o_west',\n",
    " 'a_0-25 years',\n",
    " 'a_25-50 years',\n",
    " 'a_50-75 years',\n",
    " 'supermarkets_Encoded',\n",
    "]"
   ]
  },
  {
   "cell_type": "code",
   "execution_count": 67,
   "id": "3d12a62f",
   "metadata": {},
   "outputs": [
    {
     "data": {
      "text/html": [
       "<div>\n",
       "<style scoped>\n",
       "    .dataframe tbody tr th:only-of-type {\n",
       "        vertical-align: middle;\n",
       "    }\n",
       "\n",
       "    .dataframe tbody tr th {\n",
       "        vertical-align: top;\n",
       "    }\n",
       "\n",
       "    .dataframe thead th {\n",
       "        text-align: right;\n",
       "    }\n",
       "</style>\n",
       "<table border=\"1\" class=\"dataframe\">\n",
       "  <thead>\n",
       "    <tr style=\"text-align: right;\">\n",
       "      <th></th>\n",
       "      <th>id</th>\n",
       "      <th>num_rooms</th>\n",
       "      <th>num_baths</th>\n",
       "      <th>square_meters</th>\n",
       "      <th>is_furnished</th>\n",
       "      <th>has_pool</th>\n",
       "      <th>num_crimes</th>\n",
       "      <th>has_ac</th>\n",
       "      <th>accepts_pets</th>\n",
       "      <th>price</th>\n",
       "      <th>...</th>\n",
       "      <th>o_north</th>\n",
       "      <th>o_south</th>\n",
       "      <th>o_west</th>\n",
       "      <th>a_0-25 years</th>\n",
       "      <th>a_25-50 years</th>\n",
       "      <th>a_50-75 years</th>\n",
       "      <th>supermarkets_Encoded</th>\n",
       "      <th>baths_per_room</th>\n",
       "      <th>sqrmt_per_room</th>\n",
       "      <th>rooms_per_sqrmt</th>\n",
       "    </tr>\n",
       "  </thead>\n",
       "  <tbody>\n",
       "    <tr>\n",
       "      <th>id</th>\n",
       "      <td>1.000000</td>\n",
       "      <td>-0.000040</td>\n",
       "      <td>0.003542</td>\n",
       "      <td>0.014846</td>\n",
       "      <td>0.014386</td>\n",
       "      <td>-0.003598</td>\n",
       "      <td>0.010986</td>\n",
       "      <td>-0.006081</td>\n",
       "      <td>-0.000734</td>\n",
       "      <td>0.005516</td>\n",
       "      <td>...</td>\n",
       "      <td>0.006917</td>\n",
       "      <td>-0.023117</td>\n",
       "      <td>0.017139</td>\n",
       "      <td>0.006087</td>\n",
       "      <td>0.008916</td>\n",
       "      <td>-0.015138</td>\n",
       "      <td>0.007563</td>\n",
       "      <td>-0.007700</td>\n",
       "      <td>0.001565</td>\n",
       "      <td>-0.012709</td>\n",
       "    </tr>\n",
       "    <tr>\n",
       "      <th>num_rooms</th>\n",
       "      <td>-0.000040</td>\n",
       "      <td>1.000000</td>\n",
       "      <td>-0.000131</td>\n",
       "      <td>0.016432</td>\n",
       "      <td>0.008737</td>\n",
       "      <td>0.014312</td>\n",
       "      <td>-0.002701</td>\n",
       "      <td>-0.001932</td>\n",
       "      <td>0.004964</td>\n",
       "      <td>0.070241</td>\n",
       "      <td>...</td>\n",
       "      <td>-0.000964</td>\n",
       "      <td>-0.008080</td>\n",
       "      <td>0.020882</td>\n",
       "      <td>0.003815</td>\n",
       "      <td>0.003959</td>\n",
       "      <td>-0.007817</td>\n",
       "      <td>-0.003989</td>\n",
       "      <td>-0.711155</td>\n",
       "      <td>-0.775207</td>\n",
       "      <td>0.741250</td>\n",
       "    </tr>\n",
       "    <tr>\n",
       "      <th>num_baths</th>\n",
       "      <td>0.003542</td>\n",
       "      <td>-0.000131</td>\n",
       "      <td>1.000000</td>\n",
       "      <td>0.001597</td>\n",
       "      <td>0.010746</td>\n",
       "      <td>-0.012559</td>\n",
       "      <td>0.018416</td>\n",
       "      <td>0.009368</td>\n",
       "      <td>0.009728</td>\n",
       "      <td>0.027062</td>\n",
       "      <td>...</td>\n",
       "      <td>-0.008902</td>\n",
       "      <td>-0.002758</td>\n",
       "      <td>0.016980</td>\n",
       "      <td>0.006366</td>\n",
       "      <td>-0.004916</td>\n",
       "      <td>-0.001231</td>\n",
       "      <td>-0.007162</td>\n",
       "      <td>0.560950</td>\n",
       "      <td>-0.006813</td>\n",
       "      <td>-0.003039</td>\n",
       "    </tr>\n",
       "    <tr>\n",
       "      <th>square_meters</th>\n",
       "      <td>0.014846</td>\n",
       "      <td>0.016432</td>\n",
       "      <td>0.001597</td>\n",
       "      <td>1.000000</td>\n",
       "      <td>0.007056</td>\n",
       "      <td>-0.014618</td>\n",
       "      <td>-0.015497</td>\n",
       "      <td>-0.028208</td>\n",
       "      <td>0.003099</td>\n",
       "      <td>0.722423</td>\n",
       "      <td>...</td>\n",
       "      <td>-0.003793</td>\n",
       "      <td>0.007877</td>\n",
       "      <td>0.012723</td>\n",
       "      <td>-0.023362</td>\n",
       "      <td>0.007043</td>\n",
       "      <td>0.015793</td>\n",
       "      <td>-0.014379</td>\n",
       "      <td>-0.015089</td>\n",
       "      <td>0.468113</td>\n",
       "      <td>-0.570859</td>\n",
       "    </tr>\n",
       "    <tr>\n",
       "      <th>is_furnished</th>\n",
       "      <td>0.014386</td>\n",
       "      <td>0.008737</td>\n",
       "      <td>0.010746</td>\n",
       "      <td>0.007056</td>\n",
       "      <td>1.000000</td>\n",
       "      <td>0.002771</td>\n",
       "      <td>0.005764</td>\n",
       "      <td>-0.012631</td>\n",
       "      <td>-0.001226</td>\n",
       "      <td>0.007922</td>\n",
       "      <td>...</td>\n",
       "      <td>0.002406</td>\n",
       "      <td>0.008052</td>\n",
       "      <td>-0.013014</td>\n",
       "      <td>0.004202</td>\n",
       "      <td>0.006579</td>\n",
       "      <td>-0.010885</td>\n",
       "      <td>0.003282</td>\n",
       "      <td>-0.001916</td>\n",
       "      <td>-0.001451</td>\n",
       "      <td>0.004685</td>\n",
       "    </tr>\n",
       "    <tr>\n",
       "      <th>has_pool</th>\n",
       "      <td>-0.003598</td>\n",
       "      <td>0.014312</td>\n",
       "      <td>-0.012559</td>\n",
       "      <td>-0.014618</td>\n",
       "      <td>0.002771</td>\n",
       "      <td>1.000000</td>\n",
       "      <td>-0.005809</td>\n",
       "      <td>0.005700</td>\n",
       "      <td>0.001649</td>\n",
       "      <td>0.000406</td>\n",
       "      <td>...</td>\n",
       "      <td>0.001399</td>\n",
       "      <td>-0.003326</td>\n",
       "      <td>0.004888</td>\n",
       "      <td>-0.016349</td>\n",
       "      <td>-0.010533</td>\n",
       "      <td>0.026905</td>\n",
       "      <td>-0.005589</td>\n",
       "      <td>-0.022030</td>\n",
       "      <td>-0.019362</td>\n",
       "      <td>0.017670</td>\n",
       "    </tr>\n",
       "    <tr>\n",
       "      <th>num_crimes</th>\n",
       "      <td>0.010986</td>\n",
       "      <td>-0.002701</td>\n",
       "      <td>0.018416</td>\n",
       "      <td>-0.015497</td>\n",
       "      <td>0.005764</td>\n",
       "      <td>-0.005809</td>\n",
       "      <td>1.000000</td>\n",
       "      <td>0.003897</td>\n",
       "      <td>0.018394</td>\n",
       "      <td>-0.292802</td>\n",
       "      <td>...</td>\n",
       "      <td>-0.016291</td>\n",
       "      <td>0.003454</td>\n",
       "      <td>0.014146</td>\n",
       "      <td>-0.017468</td>\n",
       "      <td>0.027372</td>\n",
       "      <td>-0.010857</td>\n",
       "      <td>0.179140</td>\n",
       "      <td>0.007708</td>\n",
       "      <td>-0.006098</td>\n",
       "      <td>0.007078</td>\n",
       "    </tr>\n",
       "    <tr>\n",
       "      <th>has_ac</th>\n",
       "      <td>-0.006081</td>\n",
       "      <td>-0.001932</td>\n",
       "      <td>0.009368</td>\n",
       "      <td>-0.028208</td>\n",
       "      <td>-0.012631</td>\n",
       "      <td>0.005700</td>\n",
       "      <td>0.003897</td>\n",
       "      <td>1.000000</td>\n",
       "      <td>0.009132</td>\n",
       "      <td>-0.008590</td>\n",
       "      <td>...</td>\n",
       "      <td>-0.012500</td>\n",
       "      <td>0.023571</td>\n",
       "      <td>-0.004146</td>\n",
       "      <td>-0.011995</td>\n",
       "      <td>-0.001165</td>\n",
       "      <td>0.013012</td>\n",
       "      <td>-0.004027</td>\n",
       "      <td>0.004959</td>\n",
       "      <td>-0.016311</td>\n",
       "      <td>0.011538</td>\n",
       "    </tr>\n",
       "    <tr>\n",
       "      <th>accepts_pets</th>\n",
       "      <td>-0.000734</td>\n",
       "      <td>0.004964</td>\n",
       "      <td>0.009728</td>\n",
       "      <td>0.003099</td>\n",
       "      <td>-0.001226</td>\n",
       "      <td>0.001649</td>\n",
       "      <td>0.018394</td>\n",
       "      <td>0.009132</td>\n",
       "      <td>1.000000</td>\n",
       "      <td>-0.008766</td>\n",
       "      <td>...</td>\n",
       "      <td>0.007061</td>\n",
       "      <td>-0.002590</td>\n",
       "      <td>0.005427</td>\n",
       "      <td>-0.004862</td>\n",
       "      <td>0.003608</td>\n",
       "      <td>0.001090</td>\n",
       "      <td>0.008948</td>\n",
       "      <td>0.001375</td>\n",
       "      <td>0.001169</td>\n",
       "      <td>0.003832</td>\n",
       "    </tr>\n",
       "    <tr>\n",
       "      <th>price</th>\n",
       "      <td>0.005516</td>\n",
       "      <td>0.070241</td>\n",
       "      <td>0.027062</td>\n",
       "      <td>0.722423</td>\n",
       "      <td>0.007922</td>\n",
       "      <td>0.000406</td>\n",
       "      <td>-0.292802</td>\n",
       "      <td>-0.008590</td>\n",
       "      <td>-0.008766</td>\n",
       "      <td>1.000000</td>\n",
       "      <td>...</td>\n",
       "      <td>0.001165</td>\n",
       "      <td>0.000459</td>\n",
       "      <td>0.007228</td>\n",
       "      <td>-0.018382</td>\n",
       "      <td>-0.000488</td>\n",
       "      <td>0.018609</td>\n",
       "      <td>-0.066019</td>\n",
       "      <td>-0.039539</td>\n",
       "      <td>0.294630</td>\n",
       "      <td>-0.366151</td>\n",
       "    </tr>\n",
       "    <tr>\n",
       "      <th>floor</th>\n",
       "      <td>0.020908</td>\n",
       "      <td>0.002307</td>\n",
       "      <td>0.022739</td>\n",
       "      <td>0.006885</td>\n",
       "      <td>-0.012715</td>\n",
       "      <td>0.005317</td>\n",
       "      <td>-0.007196</td>\n",
       "      <td>-0.004120</td>\n",
       "      <td>-0.018557</td>\n",
       "      <td>0.070459</td>\n",
       "      <td>...</td>\n",
       "      <td>-0.010462</td>\n",
       "      <td>-0.003952</td>\n",
       "      <td>0.017651</td>\n",
       "      <td>-0.002547</td>\n",
       "      <td>-0.002585</td>\n",
       "      <td>0.005160</td>\n",
       "      <td>0.001504</td>\n",
       "      <td>0.001532</td>\n",
       "      <td>-0.008192</td>\n",
       "      <td>-0.002617</td>\n",
       "    </tr>\n",
       "    <tr>\n",
       "      <th>age</th>\n",
       "      <td>-0.012195</td>\n",
       "      <td>-0.008516</td>\n",
       "      <td>-0.007426</td>\n",
       "      <td>0.019692</td>\n",
       "      <td>-0.007670</td>\n",
       "      <td>0.026956</td>\n",
       "      <td>-0.003284</td>\n",
       "      <td>0.014009</td>\n",
       "      <td>0.001147</td>\n",
       "      <td>0.019259</td>\n",
       "      <td>...</td>\n",
       "      <td>-0.016163</td>\n",
       "      <td>0.018908</td>\n",
       "      <td>0.014041</td>\n",
       "      <td>-0.803676</td>\n",
       "      <td>-0.015216</td>\n",
       "      <td>0.807322</td>\n",
       "      <td>-0.014691</td>\n",
       "      <td>0.004270</td>\n",
       "      <td>0.022132</td>\n",
       "      <td>-0.018299</td>\n",
       "    </tr>\n",
       "    <tr>\n",
       "      <th>neighborhood_Encoded</th>\n",
       "      <td>0.009914</td>\n",
       "      <td>0.004633</td>\n",
       "      <td>-0.002852</td>\n",
       "      <td>-0.007375</td>\n",
       "      <td>-0.003589</td>\n",
       "      <td>0.002781</td>\n",
       "      <td>0.405252</td>\n",
       "      <td>-0.007318</td>\n",
       "      <td>0.013978</td>\n",
       "      <td>-0.125418</td>\n",
       "      <td>...</td>\n",
       "      <td>-0.020667</td>\n",
       "      <td>-0.005032</td>\n",
       "      <td>0.022815</td>\n",
       "      <td>-0.007373</td>\n",
       "      <td>-0.001829</td>\n",
       "      <td>0.009138</td>\n",
       "      <td>0.441377</td>\n",
       "      <td>-0.008816</td>\n",
       "      <td>-0.007195</td>\n",
       "      <td>0.008153</td>\n",
       "    </tr>\n",
       "    <tr>\n",
       "      <th>o_east</th>\n",
       "      <td>-0.005080</td>\n",
       "      <td>-0.015367</td>\n",
       "      <td>-0.006848</td>\n",
       "      <td>-0.018452</td>\n",
       "      <td>0.004449</td>\n",
       "      <td>-0.004054</td>\n",
       "      <td>-0.001119</td>\n",
       "      <td>-0.004163</td>\n",
       "      <td>-0.012029</td>\n",
       "      <td>-0.010329</td>\n",
       "      <td>...</td>\n",
       "      <td>-0.320703</td>\n",
       "      <td>-0.238293</td>\n",
       "      <td>-0.328804</td>\n",
       "      <td>0.009136</td>\n",
       "      <td>0.008470</td>\n",
       "      <td>-0.017684</td>\n",
       "      <td>0.014000</td>\n",
       "      <td>0.005285</td>\n",
       "      <td>-0.002793</td>\n",
       "      <td>0.000648</td>\n",
       "    </tr>\n",
       "    <tr>\n",
       "      <th>o_north</th>\n",
       "      <td>0.006917</td>\n",
       "      <td>-0.000964</td>\n",
       "      <td>-0.008902</td>\n",
       "      <td>-0.003793</td>\n",
       "      <td>0.002406</td>\n",
       "      <td>0.001399</td>\n",
       "      <td>-0.016291</td>\n",
       "      <td>-0.012500</td>\n",
       "      <td>0.007061</td>\n",
       "      <td>0.001165</td>\n",
       "      <td>...</td>\n",
       "      <td>1.000000</td>\n",
       "      <td>-0.321866</td>\n",
       "      <td>-0.444120</td>\n",
       "      <td>0.017216</td>\n",
       "      <td>-0.010890</td>\n",
       "      <td>-0.005795</td>\n",
       "      <td>-0.004926</td>\n",
       "      <td>-0.004703</td>\n",
       "      <td>-0.003905</td>\n",
       "      <td>-0.000648</td>\n",
       "    </tr>\n",
       "    <tr>\n",
       "      <th>o_south</th>\n",
       "      <td>-0.023117</td>\n",
       "      <td>-0.008080</td>\n",
       "      <td>-0.002758</td>\n",
       "      <td>0.007877</td>\n",
       "      <td>0.008052</td>\n",
       "      <td>-0.003326</td>\n",
       "      <td>0.003454</td>\n",
       "      <td>0.023571</td>\n",
       "      <td>-0.002590</td>\n",
       "      <td>0.000459</td>\n",
       "      <td>...</td>\n",
       "      <td>-0.321866</td>\n",
       "      <td>1.000000</td>\n",
       "      <td>-0.329997</td>\n",
       "      <td>-0.030483</td>\n",
       "      <td>0.020782</td>\n",
       "      <td>0.008722</td>\n",
       "      <td>-0.019015</td>\n",
       "      <td>0.002343</td>\n",
       "      <td>0.015938</td>\n",
       "      <td>-0.011695</td>\n",
       "    </tr>\n",
       "    <tr>\n",
       "      <th>o_west</th>\n",
       "      <td>0.017139</td>\n",
       "      <td>0.020882</td>\n",
       "      <td>0.016980</td>\n",
       "      <td>0.012723</td>\n",
       "      <td>-0.013014</td>\n",
       "      <td>0.004888</td>\n",
       "      <td>0.014146</td>\n",
       "      <td>-0.004146</td>\n",
       "      <td>0.005427</td>\n",
       "      <td>0.007228</td>\n",
       "      <td>...</td>\n",
       "      <td>-0.444120</td>\n",
       "      <td>-0.329997</td>\n",
       "      <td>1.000000</td>\n",
       "      <td>0.001136</td>\n",
       "      <td>-0.014097</td>\n",
       "      <td>0.013335</td>\n",
       "      <td>0.009174</td>\n",
       "      <td>-0.001825</td>\n",
       "      <td>-0.007326</td>\n",
       "      <td>0.010045</td>\n",
       "    </tr>\n",
       "    <tr>\n",
       "      <th>a_0-25 years</th>\n",
       "      <td>0.006087</td>\n",
       "      <td>0.003815</td>\n",
       "      <td>0.006366</td>\n",
       "      <td>-0.023362</td>\n",
       "      <td>0.004202</td>\n",
       "      <td>-0.016349</td>\n",
       "      <td>-0.017468</td>\n",
       "      <td>-0.011995</td>\n",
       "      <td>-0.004862</td>\n",
       "      <td>-0.018382</td>\n",
       "      <td>...</td>\n",
       "      <td>0.017216</td>\n",
       "      <td>-0.030483</td>\n",
       "      <td>0.001136</td>\n",
       "      <td>1.000000</td>\n",
       "      <td>-0.505784</td>\n",
       "      <td>-0.466535</td>\n",
       "      <td>0.003258</td>\n",
       "      <td>0.004412</td>\n",
       "      <td>-0.014405</td>\n",
       "      <td>0.016481</td>\n",
       "    </tr>\n",
       "    <tr>\n",
       "      <th>a_25-50 years</th>\n",
       "      <td>0.008916</td>\n",
       "      <td>0.003959</td>\n",
       "      <td>-0.004916</td>\n",
       "      <td>0.007043</td>\n",
       "      <td>0.006579</td>\n",
       "      <td>-0.010533</td>\n",
       "      <td>0.027372</td>\n",
       "      <td>-0.001165</td>\n",
       "      <td>0.003608</td>\n",
       "      <td>-0.000488</td>\n",
       "      <td>...</td>\n",
       "      <td>-0.010890</td>\n",
       "      <td>0.020782</td>\n",
       "      <td>-0.014097</td>\n",
       "      <td>-0.505784</td>\n",
       "      <td>1.000000</td>\n",
       "      <td>-0.527060</td>\n",
       "      <td>0.006704</td>\n",
       "      <td>-0.013044</td>\n",
       "      <td>-0.006500</td>\n",
       "      <td>-0.001091</td>\n",
       "    </tr>\n",
       "    <tr>\n",
       "      <th>a_50-75 years</th>\n",
       "      <td>-0.015138</td>\n",
       "      <td>-0.007817</td>\n",
       "      <td>-0.001231</td>\n",
       "      <td>0.015793</td>\n",
       "      <td>-0.010885</td>\n",
       "      <td>0.026905</td>\n",
       "      <td>-0.010857</td>\n",
       "      <td>0.013012</td>\n",
       "      <td>0.001090</td>\n",
       "      <td>0.018609</td>\n",
       "      <td>...</td>\n",
       "      <td>-0.005795</td>\n",
       "      <td>0.008722</td>\n",
       "      <td>0.013335</td>\n",
       "      <td>-0.466535</td>\n",
       "      <td>-0.527060</td>\n",
       "      <td>1.000000</td>\n",
       "      <td>-0.010083</td>\n",
       "      <td>0.009028</td>\n",
       "      <td>0.020855</td>\n",
       "      <td>-0.015117</td>\n",
       "    </tr>\n",
       "    <tr>\n",
       "      <th>supermarkets_Encoded</th>\n",
       "      <td>0.007563</td>\n",
       "      <td>-0.003989</td>\n",
       "      <td>-0.007162</td>\n",
       "      <td>-0.014379</td>\n",
       "      <td>0.003282</td>\n",
       "      <td>-0.005589</td>\n",
       "      <td>0.179140</td>\n",
       "      <td>-0.004027</td>\n",
       "      <td>0.008948</td>\n",
       "      <td>-0.066019</td>\n",
       "      <td>...</td>\n",
       "      <td>-0.004926</td>\n",
       "      <td>-0.019015</td>\n",
       "      <td>0.009174</td>\n",
       "      <td>0.003258</td>\n",
       "      <td>0.006704</td>\n",
       "      <td>-0.010083</td>\n",
       "      <td>1.000000</td>\n",
       "      <td>-0.000024</td>\n",
       "      <td>-0.005735</td>\n",
       "      <td>-0.001189</td>\n",
       "    </tr>\n",
       "    <tr>\n",
       "      <th>baths_per_room</th>\n",
       "      <td>-0.007700</td>\n",
       "      <td>-0.711155</td>\n",
       "      <td>0.560950</td>\n",
       "      <td>-0.015089</td>\n",
       "      <td>-0.001916</td>\n",
       "      <td>-0.022030</td>\n",
       "      <td>0.007708</td>\n",
       "      <td>0.004959</td>\n",
       "      <td>0.001375</td>\n",
       "      <td>-0.039539</td>\n",
       "      <td>...</td>\n",
       "      <td>-0.004703</td>\n",
       "      <td>0.002343</td>\n",
       "      <td>-0.001825</td>\n",
       "      <td>0.004412</td>\n",
       "      <td>-0.013044</td>\n",
       "      <td>0.009028</td>\n",
       "      <td>-0.000024</td>\n",
       "      <td>1.000000</td>\n",
       "      <td>0.631684</td>\n",
       "      <td>-0.527893</td>\n",
       "    </tr>\n",
       "    <tr>\n",
       "      <th>sqrmt_per_room</th>\n",
       "      <td>0.001565</td>\n",
       "      <td>-0.775207</td>\n",
       "      <td>-0.006813</td>\n",
       "      <td>0.468113</td>\n",
       "      <td>-0.001451</td>\n",
       "      <td>-0.019362</td>\n",
       "      <td>-0.006098</td>\n",
       "      <td>-0.016311</td>\n",
       "      <td>0.001169</td>\n",
       "      <td>0.294630</td>\n",
       "      <td>...</td>\n",
       "      <td>-0.003905</td>\n",
       "      <td>0.015938</td>\n",
       "      <td>-0.007326</td>\n",
       "      <td>-0.014405</td>\n",
       "      <td>-0.006500</td>\n",
       "      <td>0.020855</td>\n",
       "      <td>-0.005735</td>\n",
       "      <td>0.631684</td>\n",
       "      <td>1.000000</td>\n",
       "      <td>-0.790579</td>\n",
       "    </tr>\n",
       "    <tr>\n",
       "      <th>rooms_per_sqrmt</th>\n",
       "      <td>-0.012709</td>\n",
       "      <td>0.741250</td>\n",
       "      <td>-0.003039</td>\n",
       "      <td>-0.570859</td>\n",
       "      <td>0.004685</td>\n",
       "      <td>0.017670</td>\n",
       "      <td>0.007078</td>\n",
       "      <td>0.011538</td>\n",
       "      <td>0.003832</td>\n",
       "      <td>-0.366151</td>\n",
       "      <td>...</td>\n",
       "      <td>-0.000648</td>\n",
       "      <td>-0.011695</td>\n",
       "      <td>0.010045</td>\n",
       "      <td>0.016481</td>\n",
       "      <td>-0.001091</td>\n",
       "      <td>-0.015117</td>\n",
       "      <td>-0.001189</td>\n",
       "      <td>-0.527893</td>\n",
       "      <td>-0.790579</td>\n",
       "      <td>1.000000</td>\n",
       "    </tr>\n",
       "  </tbody>\n",
       "</table>\n",
       "<p>24 rows × 24 columns</p>\n",
       "</div>"
      ],
      "text/plain": [
       "                            id  num_rooms  num_baths  square_meters  \\\n",
       "id                    1.000000  -0.000040   0.003542       0.014846   \n",
       "num_rooms            -0.000040   1.000000  -0.000131       0.016432   \n",
       "num_baths             0.003542  -0.000131   1.000000       0.001597   \n",
       "square_meters         0.014846   0.016432   0.001597       1.000000   \n",
       "is_furnished          0.014386   0.008737   0.010746       0.007056   \n",
       "has_pool             -0.003598   0.014312  -0.012559      -0.014618   \n",
       "num_crimes            0.010986  -0.002701   0.018416      -0.015497   \n",
       "has_ac               -0.006081  -0.001932   0.009368      -0.028208   \n",
       "accepts_pets         -0.000734   0.004964   0.009728       0.003099   \n",
       "price                 0.005516   0.070241   0.027062       0.722423   \n",
       "floor                 0.020908   0.002307   0.022739       0.006885   \n",
       "age                  -0.012195  -0.008516  -0.007426       0.019692   \n",
       "neighborhood_Encoded  0.009914   0.004633  -0.002852      -0.007375   \n",
       "o_east               -0.005080  -0.015367  -0.006848      -0.018452   \n",
       "o_north               0.006917  -0.000964  -0.008902      -0.003793   \n",
       "o_south              -0.023117  -0.008080  -0.002758       0.007877   \n",
       "o_west                0.017139   0.020882   0.016980       0.012723   \n",
       "a_0-25 years          0.006087   0.003815   0.006366      -0.023362   \n",
       "a_25-50 years         0.008916   0.003959  -0.004916       0.007043   \n",
       "a_50-75 years        -0.015138  -0.007817  -0.001231       0.015793   \n",
       "supermarkets_Encoded  0.007563  -0.003989  -0.007162      -0.014379   \n",
       "baths_per_room       -0.007700  -0.711155   0.560950      -0.015089   \n",
       "sqrmt_per_room        0.001565  -0.775207  -0.006813       0.468113   \n",
       "rooms_per_sqrmt      -0.012709   0.741250  -0.003039      -0.570859   \n",
       "\n",
       "                      is_furnished  has_pool  num_crimes    has_ac  \\\n",
       "id                        0.014386 -0.003598    0.010986 -0.006081   \n",
       "num_rooms                 0.008737  0.014312   -0.002701 -0.001932   \n",
       "num_baths                 0.010746 -0.012559    0.018416  0.009368   \n",
       "square_meters             0.007056 -0.014618   -0.015497 -0.028208   \n",
       "is_furnished              1.000000  0.002771    0.005764 -0.012631   \n",
       "has_pool                  0.002771  1.000000   -0.005809  0.005700   \n",
       "num_crimes                0.005764 -0.005809    1.000000  0.003897   \n",
       "has_ac                   -0.012631  0.005700    0.003897  1.000000   \n",
       "accepts_pets             -0.001226  0.001649    0.018394  0.009132   \n",
       "price                     0.007922  0.000406   -0.292802 -0.008590   \n",
       "floor                    -0.012715  0.005317   -0.007196 -0.004120   \n",
       "age                      -0.007670  0.026956   -0.003284  0.014009   \n",
       "neighborhood_Encoded     -0.003589  0.002781    0.405252 -0.007318   \n",
       "o_east                    0.004449 -0.004054   -0.001119 -0.004163   \n",
       "o_north                   0.002406  0.001399   -0.016291 -0.012500   \n",
       "o_south                   0.008052 -0.003326    0.003454  0.023571   \n",
       "o_west                   -0.013014  0.004888    0.014146 -0.004146   \n",
       "a_0-25 years              0.004202 -0.016349   -0.017468 -0.011995   \n",
       "a_25-50 years             0.006579 -0.010533    0.027372 -0.001165   \n",
       "a_50-75 years            -0.010885  0.026905   -0.010857  0.013012   \n",
       "supermarkets_Encoded      0.003282 -0.005589    0.179140 -0.004027   \n",
       "baths_per_room           -0.001916 -0.022030    0.007708  0.004959   \n",
       "sqrmt_per_room           -0.001451 -0.019362   -0.006098 -0.016311   \n",
       "rooms_per_sqrmt           0.004685  0.017670    0.007078  0.011538   \n",
       "\n",
       "                      accepts_pets     price  ...   o_north   o_south  \\\n",
       "id                       -0.000734  0.005516  ...  0.006917 -0.023117   \n",
       "num_rooms                 0.004964  0.070241  ... -0.000964 -0.008080   \n",
       "num_baths                 0.009728  0.027062  ... -0.008902 -0.002758   \n",
       "square_meters             0.003099  0.722423  ... -0.003793  0.007877   \n",
       "is_furnished             -0.001226  0.007922  ...  0.002406  0.008052   \n",
       "has_pool                  0.001649  0.000406  ...  0.001399 -0.003326   \n",
       "num_crimes                0.018394 -0.292802  ... -0.016291  0.003454   \n",
       "has_ac                    0.009132 -0.008590  ... -0.012500  0.023571   \n",
       "accepts_pets              1.000000 -0.008766  ...  0.007061 -0.002590   \n",
       "price                    -0.008766  1.000000  ...  0.001165  0.000459   \n",
       "floor                    -0.018557  0.070459  ... -0.010462 -0.003952   \n",
       "age                       0.001147  0.019259  ... -0.016163  0.018908   \n",
       "neighborhood_Encoded      0.013978 -0.125418  ... -0.020667 -0.005032   \n",
       "o_east                   -0.012029 -0.010329  ... -0.320703 -0.238293   \n",
       "o_north                   0.007061  0.001165  ...  1.000000 -0.321866   \n",
       "o_south                  -0.002590  0.000459  ... -0.321866  1.000000   \n",
       "o_west                    0.005427  0.007228  ... -0.444120 -0.329997   \n",
       "a_0-25 years             -0.004862 -0.018382  ...  0.017216 -0.030483   \n",
       "a_25-50 years             0.003608 -0.000488  ... -0.010890  0.020782   \n",
       "a_50-75 years             0.001090  0.018609  ... -0.005795  0.008722   \n",
       "supermarkets_Encoded      0.008948 -0.066019  ... -0.004926 -0.019015   \n",
       "baths_per_room            0.001375 -0.039539  ... -0.004703  0.002343   \n",
       "sqrmt_per_room            0.001169  0.294630  ... -0.003905  0.015938   \n",
       "rooms_per_sqrmt           0.003832 -0.366151  ... -0.000648 -0.011695   \n",
       "\n",
       "                        o_west  a_0-25 years  a_25-50 years  a_50-75 years  \\\n",
       "id                    0.017139      0.006087       0.008916      -0.015138   \n",
       "num_rooms             0.020882      0.003815       0.003959      -0.007817   \n",
       "num_baths             0.016980      0.006366      -0.004916      -0.001231   \n",
       "square_meters         0.012723     -0.023362       0.007043       0.015793   \n",
       "is_furnished         -0.013014      0.004202       0.006579      -0.010885   \n",
       "has_pool              0.004888     -0.016349      -0.010533       0.026905   \n",
       "num_crimes            0.014146     -0.017468       0.027372      -0.010857   \n",
       "has_ac               -0.004146     -0.011995      -0.001165       0.013012   \n",
       "accepts_pets          0.005427     -0.004862       0.003608       0.001090   \n",
       "price                 0.007228     -0.018382      -0.000488       0.018609   \n",
       "floor                 0.017651     -0.002547      -0.002585       0.005160   \n",
       "age                   0.014041     -0.803676      -0.015216       0.807322   \n",
       "neighborhood_Encoded  0.022815     -0.007373      -0.001829       0.009138   \n",
       "o_east               -0.328804      0.009136       0.008470      -0.017684   \n",
       "o_north              -0.444120      0.017216      -0.010890      -0.005795   \n",
       "o_south              -0.329997     -0.030483       0.020782       0.008722   \n",
       "o_west                1.000000      0.001136      -0.014097       0.013335   \n",
       "a_0-25 years          0.001136      1.000000      -0.505784      -0.466535   \n",
       "a_25-50 years        -0.014097     -0.505784       1.000000      -0.527060   \n",
       "a_50-75 years         0.013335     -0.466535      -0.527060       1.000000   \n",
       "supermarkets_Encoded  0.009174      0.003258       0.006704      -0.010083   \n",
       "baths_per_room       -0.001825      0.004412      -0.013044       0.009028   \n",
       "sqrmt_per_room       -0.007326     -0.014405      -0.006500       0.020855   \n",
       "rooms_per_sqrmt       0.010045      0.016481      -0.001091      -0.015117   \n",
       "\n",
       "                      supermarkets_Encoded  baths_per_room  sqrmt_per_room  \\\n",
       "id                                0.007563       -0.007700        0.001565   \n",
       "num_rooms                        -0.003989       -0.711155       -0.775207   \n",
       "num_baths                        -0.007162        0.560950       -0.006813   \n",
       "square_meters                    -0.014379       -0.015089        0.468113   \n",
       "is_furnished                      0.003282       -0.001916       -0.001451   \n",
       "has_pool                         -0.005589       -0.022030       -0.019362   \n",
       "num_crimes                        0.179140        0.007708       -0.006098   \n",
       "has_ac                           -0.004027        0.004959       -0.016311   \n",
       "accepts_pets                      0.008948        0.001375        0.001169   \n",
       "price                            -0.066019       -0.039539        0.294630   \n",
       "floor                             0.001504        0.001532       -0.008192   \n",
       "age                              -0.014691        0.004270        0.022132   \n",
       "neighborhood_Encoded              0.441377       -0.008816       -0.007195   \n",
       "o_east                            0.014000        0.005285       -0.002793   \n",
       "o_north                          -0.004926       -0.004703       -0.003905   \n",
       "o_south                          -0.019015        0.002343        0.015938   \n",
       "o_west                            0.009174       -0.001825       -0.007326   \n",
       "a_0-25 years                      0.003258        0.004412       -0.014405   \n",
       "a_25-50 years                     0.006704       -0.013044       -0.006500   \n",
       "a_50-75 years                    -0.010083        0.009028        0.020855   \n",
       "supermarkets_Encoded              1.000000       -0.000024       -0.005735   \n",
       "baths_per_room                   -0.000024        1.000000        0.631684   \n",
       "sqrmt_per_room                   -0.005735        0.631684        1.000000   \n",
       "rooms_per_sqrmt                  -0.001189       -0.527893       -0.790579   \n",
       "\n",
       "                      rooms_per_sqrmt  \n",
       "id                          -0.012709  \n",
       "num_rooms                    0.741250  \n",
       "num_baths                   -0.003039  \n",
       "square_meters               -0.570859  \n",
       "is_furnished                 0.004685  \n",
       "has_pool                     0.017670  \n",
       "num_crimes                   0.007078  \n",
       "has_ac                       0.011538  \n",
       "accepts_pets                 0.003832  \n",
       "price                       -0.366151  \n",
       "floor                       -0.002617  \n",
       "age                         -0.018299  \n",
       "neighborhood_Encoded         0.008153  \n",
       "o_east                       0.000648  \n",
       "o_north                     -0.000648  \n",
       "o_south                     -0.011695  \n",
       "o_west                       0.010045  \n",
       "a_0-25 years                 0.016481  \n",
       "a_25-50 years               -0.001091  \n",
       "a_50-75 years               -0.015117  \n",
       "supermarkets_Encoded        -0.001189  \n",
       "baths_per_room              -0.527893  \n",
       "sqrmt_per_room              -0.790579  \n",
       "rooms_per_sqrmt              1.000000  \n",
       "\n",
       "[24 rows x 24 columns]"
      ]
     },
     "execution_count": 67,
     "metadata": {},
     "output_type": "execute_result"
    }
   ],
   "source": [
    "df[variables].corr()"
   ]
  },
  {
   "cell_type": "code",
   "execution_count": 68,
   "id": "b0c3328a",
   "metadata": {},
   "outputs": [
    {
     "data": {
      "image/png": "[encoded data removed]",
      "text/plain": [
       "<Figure size 792x576 with 2 Axes>"
      ]
     },
     "metadata": {
      "needs_background": "light"
     },
     "output_type": "display_data"
    }
   ],
   "source": [
    "import matplotlib.pyplot as plt\n",
    "import seaborn as sns\n",
    "\n",
    "corr = df[variables].corr()\n",
    "plt.figure(figsize=(11, 8))\n",
    "sns.heatmap(corr, cmap=\"RdYlGn\", annot=True)\n",
    "plt.show()"
   ]
  },
  {
   "cell_type": "code",
   "execution_count": 69,
   "id": "cebce40d",
   "metadata": {},
   "outputs": [
    {
     "name": "stdout",
     "output_type": "stream",
     "text": [
      "                variable          VIF\n",
      "0              Intercept  1483.601308\n",
      "1              num_rooms     1.000675\n",
      "2              num_baths     1.001498\n",
      "3          square_meters     1.001787\n",
      "4             num_crimes     1.197728\n",
      "5                  floor     1.001515\n",
      "6   neighborhood_Encoded     1.439291\n",
      "7   supermarkets_Encoded     1.242506\n",
      "8                 has_ac     1.001284\n",
      "9               has_pool     1.000783\n",
      "10          is_furnished     1.000690\n",
      "11          accepts_pets     1.000961\n"
     ]
    }
   ],
   "source": [
    "#Measuring Multicolinearity\n",
    "\n",
    "#find design matrix for regression model using 'rating' as response variable \n",
    "y, X = dmatrices('price ~ num_rooms+num_baths+square_meters+num_crimes+floor+neighborhood_Encoded+supermarkets_Encoded+has_ac+has_pool+is_furnished+accepts_pets', data=df, return_type='dataframe')\n",
    "\n",
    "#create DataFrame to hold VIF values\n",
    "vif_df = pd.DataFrame()\n",
    "vif_df['variable'] = X.columns \n",
    "\n",
    "#calculate VIF for each predictor variable \n",
    "vif_df['VIF'] = [variance_inflation_factor(X.values, i) for i in range(X.shape[1])]\n",
    "\n",
    "#view VIF for each predictor variable \n",
    "print(vif_df)"
   ]
  },
  {
   "cell_type": "code",
   "execution_count": 64,
   "id": "87cdbf8e",
   "metadata": {},
   "outputs": [],
   "source": [
    "#Change variables again\n",
    "variables_train = ['id',\n",
    " 'num_rooms',\n",
    " 'num_baths',\n",
    " 'square_meters',\n",
    " 'num_crimes',\n",
    " 'price',\n",
    " 'floor',\n",
    " 'neighborhood_Encoded',\n",
    " 'o_east',\n",
    " 'o_north',\n",
    " 'o_south',\n",
    " 'o_west',\n",
    " 'a_0-25 years',\n",
    " 'a_25-50 years',\n",
    " 'a_50-75 years',\n",
    " 'supermarkets_Encoded','has_ac','has_pool','is_furnished','accepts_pets'\n",
    "]"
   ]
  },
  {
   "cell_type": "code",
   "execution_count": 65,
   "id": "23e8b9e7",
   "metadata": {},
   "outputs": [],
   "source": [
    "#Change variables again\n",
    "variables_test = ['id',\n",
    " 'num_rooms',\n",
    " 'num_baths',\n",
    " 'square_meters',\n",
    " 'num_crimes',\n",
    " 'floor',\n",
    " 'neighborhood_Encoded',\n",
    " 'o_east',\n",
    " 'o_north',\n",
    " 'o_south',\n",
    " 'o_west',\n",
    " 'a_0-25 years',\n",
    " 'a_25-50 years',\n",
    " 'a_50-75 years',\n",
    " 'supermarkets_Encoded',\n",
    "                  'has_ac','has_pool','is_furnished','accepts_pets'\n",
    "]"
   ]
  },
  {
   "cell_type": "code",
   "execution_count": 66,
   "id": "0e571d77",
   "metadata": {},
   "outputs": [],
   "source": [
    "# Final datasets before standarization\n",
    "data_train = df[variables_train]\n",
    "data_test = dt[variables_test] "
   ]
  },
  {
   "cell_type": "markdown",
   "id": "523aa3b5",
   "metadata": {},
   "source": [
    "### Standarization"
   ]
  },
  {
   "cell_type": "code",
   "execution_count": 67,
   "id": "456decf2",
   "metadata": {},
   "outputs": [],
   "source": [
    "def standarize_df(df,start_col):\n",
    "    dz=df.copy()\n",
    "    for i in df.iloc[:, start_col:].columns:\n",
    "        if i not in ['price','o_east','o_north','o_south','o_west','a_0-25 years','a_25-50 years','a_50-75 years','has_ac','has_pool','is_furnished','accepts_pets']:\n",
    "            dz[i] = (df[i] - np.mean(df[i])) / np.std(df[i])\n",
    "        else:\n",
    "            dz[i] =  df[i]\n",
    "    return dz\n",
    "    "
   ]
  },
  {
   "cell_type": "code",
   "execution_count": 68,
   "id": "82e0e570",
   "metadata": {},
   "outputs": [],
   "source": [
    "stdz_train = standarize_df(data_train,1)"
   ]
  },
  {
   "cell_type": "code",
   "execution_count": 69,
   "id": "bf40edba",
   "metadata": {},
   "outputs": [],
   "source": [
    "stdz_test = standarize_df(data_test,1)"
   ]
  },
  {
   "cell_type": "code",
   "execution_count": 70,
   "id": "fd3ad767",
   "metadata": {},
   "outputs": [],
   "source": [
    "#Change variables again\n",
    "var_train = [\n",
    " 'num_rooms',\n",
    " 'num_baths',\n",
    " 'square_meters',\n",
    " 'num_crimes',\n",
    " 'price',\n",
    " 'floor',\n",
    " 'neighborhood_Encoded',\n",
    " 'o_east',\n",
    " 'o_north',\n",
    " 'o_south',\n",
    " 'o_west',\n",
    " 'a_0-25 years',\n",
    " 'a_25-50 years',\n",
    " 'a_50-75 years',\n",
    " 'supermarkets_Encoded'\n",
    "    'has_ac','has_pool','is_furnished','accepts_pets'\n",
    "]"
   ]
  },
  {
   "cell_type": "code",
   "execution_count": 71,
   "id": "6f42c3f0",
   "metadata": {},
   "outputs": [],
   "source": [
    "#Change variables again\n",
    "var_test = [\n",
    " 'num_rooms',\n",
    " 'num_baths',\n",
    " 'square_meters',\n",
    " 'num_crimes',\n",
    " 'floor',\n",
    " 'neighborhood_Encoded',\n",
    " 'o_east',\n",
    " 'o_north',\n",
    " 'o_south',\n",
    " 'o_west',\n",
    " 'a_0-25 years',\n",
    " 'a_25-50 years',\n",
    " 'a_50-75 years',\n",
    " 'supermarkets_Encoded'\n",
    "                  'has_ac','has_pool','is_furnished','accepts_pets'\n",
    "]"
   ]
  },
  {
   "cell_type": "code",
   "execution_count": 72,
   "id": "a905600e",
   "metadata": {},
   "outputs": [],
   "source": [
    "train_df = stdz_train[var_train]"
   ]
  },
  {
   "cell_type": "code",
   "execution_count": 73,
   "id": "262e5e4f",
   "metadata": {},
   "outputs": [],
   "source": [
    "test_df = stdz_test[var_test]"
   ]
  },
  {
   "cell_type": "markdown",
   "id": "fb4eada5",
   "metadata": {},
   "source": [
    "### Cross-validation"
   ]
  },
  {
   "cell_type": "code",
   "execution_count": 74,
   "id": "7717aa23",
   "metadata": {},
   "outputs": [],
   "source": [
    "stdz_train_1 = train_df.copy()\n",
    "stdz_test_1 = test_df.copy()"
   ]
  },
  {
   "cell_type": "code",
   "execution_count": 79,
   "id": "d485c007",
   "metadata": {},
   "outputs": [
    {
     "data": {
      "text/html": [
       "<div>\n",
       "<style scoped>\n",
       "    .dataframe tbody tr th:only-of-type {\n",
       "        vertical-align: middle;\n",
       "    }\n",
       "\n",
       "    .dataframe tbody tr th {\n",
       "        vertical-align: top;\n",
       "    }\n",
       "\n",
       "    .dataframe thead th {\n",
       "        text-align: right;\n",
       "    }\n",
       "</style>\n",
       "<table border=\"1\" class=\"dataframe\">\n",
       "  <thead>\n",
       "    <tr style=\"text-align: right;\">\n",
       "      <th></th>\n",
       "      <th>num_rooms</th>\n",
       "      <th>num_baths</th>\n",
       "      <th>square_meters</th>\n",
       "      <th>num_crimes</th>\n",
       "      <th>floor</th>\n",
       "      <th>o_east</th>\n",
       "      <th>o_north</th>\n",
       "      <th>o_south</th>\n",
       "      <th>o_west</th>\n",
       "      <th>a_0-25 years</th>\n",
       "      <th>a_25-50 years</th>\n",
       "      <th>a_50-75 years</th>\n",
       "      <th>supermarkets_Encoded</th>\n",
       "    </tr>\n",
       "  </thead>\n",
       "  <tbody>\n",
       "    <tr>\n",
       "      <th>0</th>\n",
       "      <td>-0.501416</td>\n",
       "      <td>-1.244252</td>\n",
       "      <td>1.213041</td>\n",
       "      <td>-0.787245</td>\n",
       "      <td>0.165116</td>\n",
       "      <td>0</td>\n",
       "      <td>0</td>\n",
       "      <td>0</td>\n",
       "      <td>1</td>\n",
       "      <td>1</td>\n",
       "      <td>0</td>\n",
       "      <td>0</td>\n",
       "      <td>-1.760872</td>\n",
       "    </tr>\n",
       "    <tr>\n",
       "      <th>1</th>\n",
       "      <td>0.435226</td>\n",
       "      <td>-0.005368</td>\n",
       "      <td>-0.548098</td>\n",
       "      <td>-0.192761</td>\n",
       "      <td>-1.305305</td>\n",
       "      <td>1</td>\n",
       "      <td>0</td>\n",
       "      <td>0</td>\n",
       "      <td>0</td>\n",
       "      <td>0</td>\n",
       "      <td>0</td>\n",
       "      <td>1</td>\n",
       "      <td>1.101648</td>\n",
       "    </tr>\n",
       "    <tr>\n",
       "      <th>2</th>\n",
       "      <td>0.747441</td>\n",
       "      <td>-0.005368</td>\n",
       "      <td>-0.661720</td>\n",
       "      <td>-0.787245</td>\n",
       "      <td>0.165116</td>\n",
       "      <td>0</td>\n",
       "      <td>1</td>\n",
       "      <td>0</td>\n",
       "      <td>0</td>\n",
       "      <td>0</td>\n",
       "      <td>1</td>\n",
       "      <td>0</td>\n",
       "      <td>1.904157</td>\n",
       "    </tr>\n",
       "    <tr>\n",
       "      <th>3</th>\n",
       "      <td>0.747441</td>\n",
       "      <td>1.233515</td>\n",
       "      <td>1.553907</td>\n",
       "      <td>1.293447</td>\n",
       "      <td>1.267932</td>\n",
       "      <td>0</td>\n",
       "      <td>0</td>\n",
       "      <td>0</td>\n",
       "      <td>1</td>\n",
       "      <td>1</td>\n",
       "      <td>0</td>\n",
       "      <td>0</td>\n",
       "      <td>-0.628045</td>\n",
       "    </tr>\n",
       "    <tr>\n",
       "      <th>4</th>\n",
       "      <td>-0.501416</td>\n",
       "      <td>-1.244252</td>\n",
       "      <td>-0.292449</td>\n",
       "      <td>-0.787245</td>\n",
       "      <td>1.267932</td>\n",
       "      <td>0</td>\n",
       "      <td>1</td>\n",
       "      <td>0</td>\n",
       "      <td>0</td>\n",
       "      <td>0</td>\n",
       "      <td>1</td>\n",
       "      <td>0</td>\n",
       "      <td>-0.567280</td>\n",
       "    </tr>\n",
       "  </tbody>\n",
       "</table>\n",
       "</div>"
      ],
      "text/plain": [
       "   num_rooms  num_baths  square_meters  num_crimes     floor  o_east  o_north  \\\n",
       "0  -0.501416  -1.244252       1.213041   -0.787245  0.165116       0        0   \n",
       "1   0.435226  -0.005368      -0.548098   -0.192761 -1.305305       1        0   \n",
       "2   0.747441  -0.005368      -0.661720   -0.787245  0.165116       0        1   \n",
       "3   0.747441   1.233515       1.553907    1.293447  1.267932       0        0   \n",
       "4  -0.501416  -1.244252      -0.292449   -0.787245  1.267932       0        1   \n",
       "\n",
       "   o_south  o_west  a_0-25 years  a_25-50 years  a_50-75 years  \\\n",
       "0        0       1             1              0              0   \n",
       "1        0       0             0              0              1   \n",
       "2        0       0             0              1              0   \n",
       "3        0       1             1              0              0   \n",
       "4        0       0             0              1              0   \n",
       "\n",
       "   supermarkets_Encoded  \n",
       "0             -1.760872  \n",
       "1              1.101648  \n",
       "2              1.904157  \n",
       "3             -0.628045  \n",
       "4             -0.567280  "
      ]
     },
     "execution_count": 79,
     "metadata": {},
     "output_type": "execute_result"
    }
   ],
   "source": [
    "stdz_test_1.head()"
   ]
  },
  {
   "cell_type": "code",
   "execution_count": 75,
   "id": "6be8d2d1",
   "metadata": {},
   "outputs": [],
   "source": [
    "# Function to split data\n",
    "def splitdata(df, target_column):\n",
    "    X = df.drop(target_column, axis=1)\n",
    "    y = df[target_column]\n",
    "    X_train, X_test, y_train, y_test = train_test_split(X, y, test_size=0.3, random_state=42)\n",
    "    return X_train, X_test, y_train, y_test"
   ]
  },
  {
   "cell_type": "code",
   "execution_count": 76,
   "id": "359e5266",
   "metadata": {},
   "outputs": [],
   "source": [
    "X_train, X_test, y_train, y_test = splitdata(stdz_train_1,'price')"
   ]
  },
  {
   "cell_type": "code",
   "execution_count": 78,
   "id": "7d085158",
   "metadata": {},
   "outputs": [
    {
     "data": {
      "text/html": [
       "<div>\n",
       "<style scoped>\n",
       "    .dataframe tbody tr th:only-of-type {\n",
       "        vertical-align: middle;\n",
       "    }\n",
       "\n",
       "    .dataframe tbody tr th {\n",
       "        vertical-align: top;\n",
       "    }\n",
       "\n",
       "    .dataframe thead th {\n",
       "        text-align: right;\n",
       "    }\n",
       "</style>\n",
       "<table border=\"1\" class=\"dataframe\">\n",
       "  <thead>\n",
       "    <tr style=\"text-align: right;\">\n",
       "      <th></th>\n",
       "      <th>num_rooms</th>\n",
       "      <th>num_baths</th>\n",
       "      <th>square_meters</th>\n",
       "      <th>num_crimes</th>\n",
       "      <th>floor</th>\n",
       "      <th>o_east</th>\n",
       "      <th>o_north</th>\n",
       "      <th>o_south</th>\n",
       "      <th>o_west</th>\n",
       "      <th>a_0-25 years</th>\n",
       "      <th>a_25-50 years</th>\n",
       "      <th>a_50-75 years</th>\n",
       "      <th>supermarkets_Encoded</th>\n",
       "    </tr>\n",
       "  </thead>\n",
       "  <tbody>\n",
       "    <tr>\n",
       "      <th>6760</th>\n",
       "      <td>0.458730</td>\n",
       "      <td>1.246714</td>\n",
       "      <td>1.244778</td>\n",
       "      <td>-0.817714</td>\n",
       "      <td>0.491729</td>\n",
       "      <td>1</td>\n",
       "      <td>0</td>\n",
       "      <td>0</td>\n",
       "      <td>0</td>\n",
       "      <td>1</td>\n",
       "      <td>0</td>\n",
       "      <td>0</td>\n",
       "      <td>1.015442</td>\n",
       "    </tr>\n",
       "    <tr>\n",
       "      <th>4623</th>\n",
       "      <td>-0.435045</td>\n",
       "      <td>-1.220704</td>\n",
       "      <td>-1.134737</td>\n",
       "      <td>1.517117</td>\n",
       "      <td>-1.356818</td>\n",
       "      <td>0</td>\n",
       "      <td>1</td>\n",
       "      <td>0</td>\n",
       "      <td>0</td>\n",
       "      <td>1</td>\n",
       "      <td>0</td>\n",
       "      <td>0</td>\n",
       "      <td>1.173926</td>\n",
       "    </tr>\n",
       "    <tr>\n",
       "      <th>7841</th>\n",
       "      <td>1.352505</td>\n",
       "      <td>-1.220704</td>\n",
       "      <td>1.445460</td>\n",
       "      <td>0.057848</td>\n",
       "      <td>-1.356818</td>\n",
       "      <td>0</td>\n",
       "      <td>0</td>\n",
       "      <td>0</td>\n",
       "      <td>1</td>\n",
       "      <td>0</td>\n",
       "      <td>0</td>\n",
       "      <td>1</td>\n",
       "      <td>1.015442</td>\n",
       "    </tr>\n",
       "    <tr>\n",
       "      <th>3704</th>\n",
       "      <td>-1.328820</td>\n",
       "      <td>1.246714</td>\n",
       "      <td>1.588804</td>\n",
       "      <td>-0.525860</td>\n",
       "      <td>-0.617399</td>\n",
       "      <td>0</td>\n",
       "      <td>0</td>\n",
       "      <td>0</td>\n",
       "      <td>1</td>\n",
       "      <td>0</td>\n",
       "      <td>1</td>\n",
       "      <td>0</td>\n",
       "      <td>-0.143029</td>\n",
       "    </tr>\n",
       "    <tr>\n",
       "      <th>981</th>\n",
       "      <td>0.458730</td>\n",
       "      <td>-1.220704</td>\n",
       "      <td>-0.790711</td>\n",
       "      <td>-0.817714</td>\n",
       "      <td>1.231148</td>\n",
       "      <td>0</td>\n",
       "      <td>1</td>\n",
       "      <td>0</td>\n",
       "      <td>0</td>\n",
       "      <td>0</td>\n",
       "      <td>0</td>\n",
       "      <td>1</td>\n",
       "      <td>-0.361285</td>\n",
       "    </tr>\n",
       "  </tbody>\n",
       "</table>\n",
       "</div>"
      ],
      "text/plain": [
       "      num_rooms  num_baths  square_meters  num_crimes     floor  o_east  \\\n",
       "6760   0.458730   1.246714       1.244778   -0.817714  0.491729       1   \n",
       "4623  -0.435045  -1.220704      -1.134737    1.517117 -1.356818       0   \n",
       "7841   1.352505  -1.220704       1.445460    0.057848 -1.356818       0   \n",
       "3704  -1.328820   1.246714       1.588804   -0.525860 -0.617399       0   \n",
       "981    0.458730  -1.220704      -0.790711   -0.817714  1.231148       0   \n",
       "\n",
       "      o_north  o_south  o_west  a_0-25 years  a_25-50 years  a_50-75 years  \\\n",
       "6760        0        0       0             1              0              0   \n",
       "4623        1        0       0             1              0              0   \n",
       "7841        0        0       1             0              0              1   \n",
       "3704        0        0       1             0              1              0   \n",
       "981         1        0       0             0              0              1   \n",
       "\n",
       "      supermarkets_Encoded  \n",
       "6760              1.015442  \n",
       "4623              1.173926  \n",
       "7841              1.015442  \n",
       "3704             -0.143029  \n",
       "981              -0.361285  "
      ]
     },
     "execution_count": 78,
     "metadata": {},
     "output_type": "execute_result"
    }
   ],
   "source": [
    "X_train.head()"
   ]
  },
  {
   "cell_type": "markdown",
   "id": "1f02aa60",
   "metadata": {},
   "source": [
    "### Model"
   ]
  },
  {
   "cell_type": "code",
   "execution_count": 77,
   "id": "12ce9dc6",
   "metadata": {},
   "outputs": [
    {
     "name": "stdout",
     "output_type": "stream",
     "text": [
      "Train MSE: 28525.52198538634\n",
      "Test MSE: 29516.537415659073\n",
      "Train R^2: 0.6139899067904938\n",
      "Test R^2: 0.5988394254255495\n"
     ]
    }
   ],
   "source": [
    "# Define the features and target\n",
    "X_train = X_train\n",
    "X_test = X_test\n",
    "y_test = y_test\n",
    "y_train = y_train\n",
    "\n",
    "# Train the model\n",
    "# For Logistic Regression:\n",
    "model = LinearRegression()\n",
    "\n",
    "model.fit(X_train, y_train)\n",
    "\n",
    "# Make predictions\n",
    "train_predictions = model.predict(X_train)\n",
    "test_predictions = model.predict(X_test)\n",
    "\n",
    "# Compute metrics\n",
    "train_mse = mean_squared_error(y_train, train_predictions)\n",
    "test_mse = mean_squared_error(y_test, test_predictions)\n",
    "\n",
    "train_r2 = r2_score(y_train, train_predictions)\n",
    "test_r2 = r2_score(y_test, test_predictions)\n",
    "\n",
    "print(\"Train MSE:\", train_mse)\n",
    "print(\"Test MSE:\", test_mse)\n",
    "print(\"Train R^2:\", train_r2)\n",
    "print(\"Test R^2:\", test_r2)"
   ]
  },
  {
   "cell_type": "code",
   "execution_count": null,
   "id": "1b14e388",
   "metadata": {},
   "outputs": [],
   "source": [
    "test_predictions = model.predict(stdz_test_1)"
   ]
  },
  {
   "cell_type": "code",
   "execution_count": null,
   "id": "dc1944fc",
   "metadata": {},
   "outputs": [],
   "source": [
    "test_prediction_submit = pd.DataFrame({\"id\": stdz_test_1[\"id\"],  \"price\": test_predictions })\n",
    "test_prediction_submit.to_csv(\"test_submit.csv\", index = False)"
   ]
  },
  {
   "cell_type": "markdown",
   "id": "d25655be",
   "metadata": {},
   "source": [
    "## Bivariate Analysis"
   ]
  },
  {
   "cell_type": "code",
   "execution_count": 8,
   "id": "c82b3cbe",
   "metadata": {},
   "outputs": [
    {
     "name": "stdout",
     "output_type": "stream",
     "text": [
      "<class 'pandas.core.frame.DataFrame'>\n",
      "RangeIndex: 8000 entries, 0 to 7999\n",
      "Data columns (total 15 columns):\n",
      " #   Column            Non-Null Count  Dtype  \n",
      "---  ------            --------------  -----  \n",
      " 0   id                8000 non-null   int64  \n",
      " 1   num_rooms         8000 non-null   float64\n",
      " 2   num_baths         7840 non-null   float64\n",
      " 3   square_meters     7845 non-null   float64\n",
      " 4   orientation       5659 non-null   object \n",
      " 5   year_built        7830 non-null   float64\n",
      " 6   door              7851 non-null   object \n",
      " 7   is_furnished      7835 non-null   object \n",
      " 8   has_pool          7844 non-null   object \n",
      " 9   neighborhood      7835 non-null   object \n",
      " 10  num_crimes        7840 non-null   float64\n",
      " 11  has_ac            7831 non-null   object \n",
      " 12  accepts_pets      7845 non-null   object \n",
      " 13  num_supermarkets  1411 non-null   float64\n",
      " 14  price             8000 non-null   int64  \n",
      "dtypes: float64(6), int64(2), object(7)\n",
      "memory usage: 937.6+ KB\n"
     ]
    }
   ],
   "source": [
    "# Check Data Type\n",
    "df.info()"
   ]
  },
  {
   "cell_type": "code",
   "execution_count": 9,
   "id": "a1fe2c4f",
   "metadata": {},
   "outputs": [
    {
     "name": "stdout",
     "output_type": "stream",
     "text": [
      "                     0\n",
      "id                8000\n",
      "num_rooms           39\n",
      "num_baths            4\n",
      "square_meters      179\n",
      "orientation          6\n",
      "year_built          73\n",
      "door                41\n",
      "is_furnished         3\n",
      "has_pool             3\n",
      "neighborhood        11\n",
      "num_crimes          12\n",
      "has_ac               3\n",
      "accepts_pets         3\n",
      "num_supermarkets     4\n",
      "price             1279\n"
     ]
    }
   ],
   "source": [
    "#Calculating the unique values for each column\n",
    "diction = {}\n",
    "for i in df.columns:\n",
    "    unique_vals = np.size(df[i].unique())\n",
    "    diction[i] = unique_vals\n",
    "print(pd.DataFrame.from_dict(diction,orient ='index'))"
   ]
  },
  {
   "cell_type": "markdown",
   "id": "44b99fb4",
   "metadata": {},
   "source": [
    "### Exploring Categorical data"
   ]
  },
  {
   "cell_type": "markdown",
   "id": "bfbdacad",
   "metadata": {},
   "source": [
    "Step 1 - Check all our categorical data"
   ]
  },
  {
   "cell_type": "code",
   "execution_count": 10,
   "id": "e44df1c5",
   "metadata": {},
   "outputs": [],
   "source": [
    "# Creating  a  subset  of  categorical  data\n",
    "categoricals = ['orientation','is_furnished','has_pool','neighborhood','has_ac','accepts_pets','floor']"
   ]
  },
  {
   "cell_type": "code",
   "execution_count": 18,
   "id": "9dd90b28",
   "metadata": {},
   "outputs": [
    {
     "name": "stdout",
     "output_type": "stream",
     "text": [
      "orientation\n",
      "[nan 'west' 'east' 'north' 'south']\n",
      "is_furnished\n",
      "[ 0.  1. nan]\n",
      "has_pool\n",
      "[ 0.  1. nan]\n",
      "neighborhood\n",
      "['Sant Martí' 'Sants' 'Eixample' 'Gràcia' nan 'Les Cors'\n",
      " 'Sarrià-Sant Gervasi' 'Horta' 'Sant Andreu' 'Ciutat Vella' 'Nou Barris']\n",
      "has_ac\n",
      "[ 1.  0. nan]\n",
      "accepts_pets\n",
      "[ 1.  0. nan]\n",
      "floor\n",
      "[ 3.  7.  1.  6.  5. nan  2.  8.  4.  9.]\n"
     ]
    }
   ],
   "source": [
    "for i in df[categoricals].columns:\n",
    "    a = df[categoricals][i].unique()\n",
    "    print(i)\n",
    "    print(a)"
   ]
  },
  {
   "cell_type": "code",
   "execution_count": 19,
   "id": "8e54d7ed",
   "metadata": {},
   "outputs": [
    {
     "name": "stdout",
     "output_type": "stream",
     "text": [
      "   index  orientation\n",
      "0   west     0.258173\n",
      "1  north     0.250574\n",
      "2   east     0.247570\n",
      "3  south     0.243683\n",
      "   index  is_furnished\n",
      "0    0.0      0.518315\n",
      "1    1.0      0.481685\n",
      "   index  has_pool\n",
      "0    1.0  0.504207\n",
      "1    0.0  0.495793\n",
      "                 index  neighborhood\n",
      "0                Sants      0.105041\n",
      "1           Nou Barris      0.104786\n",
      "2               Gràcia      0.103382\n",
      "3          Sant Andreu      0.101213\n",
      "4         Ciutat Vella      0.101213\n",
      "5           Sant Martí      0.098277\n",
      "6             Eixample      0.098022\n",
      "7  Sarrià-Sant Gervasi      0.097128\n",
      "8                Horta      0.095980\n",
      "9             Les Cors      0.094959\n",
      "   index    has_ac\n",
      "0    1.0  0.504406\n",
      "1    0.0  0.495594\n",
      "   index  accepts_pets\n",
      "0    1.0      0.507967\n",
      "1    0.0      0.492033\n",
      "   index     floor\n",
      "0    1.0  0.195516\n",
      "1    5.0  0.105210\n",
      "2    6.0  0.105082\n",
      "3    9.0  0.104191\n",
      "4    7.0  0.101261\n",
      "5    3.0  0.100624\n",
      "6    8.0  0.099223\n",
      "7    4.0  0.098714\n",
      "8    2.0  0.090180\n"
     ]
    }
   ],
   "source": [
    "# Category proportion %\n",
    "for i in df[categoricals].columns:\n",
    "    counts = pd.DataFrame(df[i].value_counts()/df[i].count()).reset_index()\n",
    "    print(counts)"
   ]
  },
  {
   "cell_type": "markdown",
   "id": "c2aee750",
   "metadata": {},
   "source": [
    "- Orientation: Sample of apartments is well balanced in terms of orientation (~25% each category)\n",
    "- is_furnished: Half apartments are  furnished\n",
    "- has_pool: Half apartments have pool\n",
    "- neighborhood: Sample of apartments is well balanced in terms of neighborhood (~10% each category)\n",
    "- has_ac: Half apartments have ac\n",
    "- accepts_pets: half apartments accept pets"
   ]
  },
  {
   "cell_type": "markdown",
   "id": "9610eb0d",
   "metadata": {},
   "source": [
    "### Studying the neighborhoods"
   ]
  },
  {
   "cell_type": "code",
   "execution_count": 85,
   "id": "dfbded5d",
   "metadata": {},
   "outputs": [
    {
     "data": {
      "text/plain": [
       "Index(['id', 'num_rooms', 'num_baths', 'square_meters', 'orientation',\n",
       "       'year_built', 'door', 'is_furnished', 'has_pool', 'neighborhood',\n",
       "       'num_crimes', 'has_ac', 'accepts_pets', 'num_supermarkets', 'price',\n",
       "       'floor', 'today', 'age', 'neighborhood_Encoded', 'supermarkets_Encoded',\n",
       "       'age_range', 'o_east', 'o_north', 'o_south', 'o_west', 'a_0-25 years',\n",
       "       'a_25-50 years', 'a_50-75 years', 'baths_per_room', 'sqrmt_per_room',\n",
       "       'rooms_per_sqrmt'],\n",
       "      dtype='object')"
      ]
     },
     "execution_count": 85,
     "metadata": {},
     "output_type": "execute_result"
    }
   ],
   "source": [
    "df.columns"
   ]
  },
  {
   "cell_type": "code",
   "execution_count": 94,
   "id": "a46b4bd0",
   "metadata": {},
   "outputs": [],
   "source": [
    "variables = ['price', 'num_crimes','floor','num_rooms','num_baths','age']"
   ]
  },
  {
   "cell_type": "code",
   "execution_count": 95,
   "id": "197ab9d4",
   "metadata": {},
   "outputs": [],
   "source": [
    "ng_price_vs_crime = df.groupby(['neighborhood'])[variables].mean().sort_values(by='price',ascending = False).round(3).reset_index()"
   ]
  },
  {
   "cell_type": "code",
   "execution_count": 96,
   "id": "2d17fa5d",
   "metadata": {},
   "outputs": [
    {
     "data": {
      "text/html": [
       "<div>\n",
       "<style scoped>\n",
       "    .dataframe tbody tr th:only-of-type {\n",
       "        vertical-align: middle;\n",
       "    }\n",
       "\n",
       "    .dataframe tbody tr th {\n",
       "        vertical-align: top;\n",
       "    }\n",
       "\n",
       "    .dataframe thead th {\n",
       "        text-align: right;\n",
       "    }\n",
       "</style>\n",
       "<table border=\"1\" class=\"dataframe\">\n",
       "  <thead>\n",
       "    <tr style=\"text-align: right;\">\n",
       "      <th></th>\n",
       "      <th>neighborhood</th>\n",
       "      <th>price</th>\n",
       "      <th>num_crimes</th>\n",
       "      <th>floor</th>\n",
       "      <th>num_rooms</th>\n",
       "      <th>num_baths</th>\n",
       "      <th>age</th>\n",
       "    </tr>\n",
       "  </thead>\n",
       "  <tbody>\n",
       "    <tr>\n",
       "      <th>0</th>\n",
       "      <td>Sarrià-Sant Gervasi</td>\n",
       "      <td>1151.980</td>\n",
       "      <td>0.671</td>\n",
       "      <td>4.857</td>\n",
       "      <td>2.484</td>\n",
       "      <td>1.997</td>\n",
       "      <td>37.911</td>\n",
       "    </tr>\n",
       "    <tr>\n",
       "      <th>1</th>\n",
       "      <td>Eixample</td>\n",
       "      <td>1143.737</td>\n",
       "      <td>0.957</td>\n",
       "      <td>4.698</td>\n",
       "      <td>2.492</td>\n",
       "      <td>2.030</td>\n",
       "      <td>36.737</td>\n",
       "    </tr>\n",
       "    <tr>\n",
       "      <th>2</th>\n",
       "      <td>Les Cors</td>\n",
       "      <td>1127.503</td>\n",
       "      <td>1.434</td>\n",
       "      <td>4.772</td>\n",
       "      <td>2.472</td>\n",
       "      <td>1.969</td>\n",
       "      <td>37.417</td>\n",
       "    </tr>\n",
       "    <tr>\n",
       "      <th>3</th>\n",
       "      <td>Gràcia</td>\n",
       "      <td>1117.152</td>\n",
       "      <td>2.204</td>\n",
       "      <td>4.700</td>\n",
       "      <td>2.491</td>\n",
       "      <td>1.988</td>\n",
       "      <td>38.361</td>\n",
       "    </tr>\n",
       "    <tr>\n",
       "      <th>4</th>\n",
       "      <td>Horta</td>\n",
       "      <td>1108.239</td>\n",
       "      <td>2.563</td>\n",
       "      <td>4.533</td>\n",
       "      <td>2.513</td>\n",
       "      <td>1.957</td>\n",
       "      <td>38.485</td>\n",
       "    </tr>\n",
       "    <tr>\n",
       "      <th>5</th>\n",
       "      <td>Ciutat Vella</td>\n",
       "      <td>1096.231</td>\n",
       "      <td>3.066</td>\n",
       "      <td>4.598</td>\n",
       "      <td>2.429</td>\n",
       "      <td>1.985</td>\n",
       "      <td>37.355</td>\n",
       "    </tr>\n",
       "    <tr>\n",
       "      <th>6</th>\n",
       "      <td>Sants</td>\n",
       "      <td>1088.028</td>\n",
       "      <td>3.654</td>\n",
       "      <td>4.672</td>\n",
       "      <td>2.505</td>\n",
       "      <td>1.990</td>\n",
       "      <td>37.481</td>\n",
       "    </tr>\n",
       "    <tr>\n",
       "      <th>7</th>\n",
       "      <td>Sant Martí</td>\n",
       "      <td>1067.832</td>\n",
       "      <td>3.479</td>\n",
       "      <td>4.771</td>\n",
       "      <td>2.484</td>\n",
       "      <td>1.972</td>\n",
       "      <td>37.597</td>\n",
       "    </tr>\n",
       "    <tr>\n",
       "      <th>8</th>\n",
       "      <td>Sant Andreu</td>\n",
       "      <td>1067.313</td>\n",
       "      <td>4.472</td>\n",
       "      <td>4.600</td>\n",
       "      <td>2.515</td>\n",
       "      <td>2.026</td>\n",
       "      <td>38.352</td>\n",
       "    </tr>\n",
       "    <tr>\n",
       "      <th>9</th>\n",
       "      <td>Nou Barris</td>\n",
       "      <td>1038.453</td>\n",
       "      <td>5.084</td>\n",
       "      <td>4.658</td>\n",
       "      <td>2.486</td>\n",
       "      <td>1.976</td>\n",
       "      <td>37.545</td>\n",
       "    </tr>\n",
       "  </tbody>\n",
       "</table>\n",
       "</div>"
      ],
      "text/plain": [
       "          neighborhood     price  num_crimes  floor  num_rooms  num_baths  \\\n",
       "0  Sarrià-Sant Gervasi  1151.980       0.671  4.857      2.484      1.997   \n",
       "1             Eixample  1143.737       0.957  4.698      2.492      2.030   \n",
       "2             Les Cors  1127.503       1.434  4.772      2.472      1.969   \n",
       "3               Gràcia  1117.152       2.204  4.700      2.491      1.988   \n",
       "4                Horta  1108.239       2.563  4.533      2.513      1.957   \n",
       "5         Ciutat Vella  1096.231       3.066  4.598      2.429      1.985   \n",
       "6                Sants  1088.028       3.654  4.672      2.505      1.990   \n",
       "7           Sant Martí  1067.832       3.479  4.771      2.484      1.972   \n",
       "8          Sant Andreu  1067.313       4.472  4.600      2.515      2.026   \n",
       "9           Nou Barris  1038.453       5.084  4.658      2.486      1.976   \n",
       "\n",
       "      age  \n",
       "0  37.911  \n",
       "1  36.737  \n",
       "2  37.417  \n",
       "3  38.361  \n",
       "4  38.485  \n",
       "5  37.355  \n",
       "6  37.481  \n",
       "7  37.597  \n",
       "8  38.352  \n",
       "9  37.545  "
      ]
     },
     "execution_count": 96,
     "metadata": {},
     "output_type": "execute_result"
    }
   ],
   "source": [
    "ng_price_vs_crime"
   ]
  },
  {
   "cell_type": "code",
   "execution_count": 74,
   "id": "06683c76",
   "metadata": {},
   "outputs": [
    {
     "data": {
      "image/png": "[encoded data removed]",
      "text/plain": [
       "<Figure size 1008x576 with 4 Axes>"
      ]
     },
     "metadata": {
      "needs_background": "light"
     },
     "output_type": "display_data"
    }
   ],
   "source": [
    "#Plotting both perc and accum\n",
    "#Plot both mean  and median as lines\n",
    "fig, (ax1,ax2,ax3,ax4) = plt.subplots(1,4, figsize=(14,8))\n",
    "ng_price_vs_crime.plot(x='neighborhood', y='price' , kind= 'bar', ax=ax1,fontsize=8)\n",
    "ng_price_vs_crime.plot(x='neighborhood', y='num_crimes', kind = 'line',ax = ax2,fontsize=8)\n",
    "ng_price_vs_crime.plot(x='neighborhood', y='age' , kind= 'bar', ax=ax3,fontsize=8)\n",
    "ng_price_vs_crime.plot(x='neighborhood', y='baths_per_room' , kind= 'bar', ax=ax4,fontsize=8)\n",
    "\n",
    "plt.xticks(rotation=90)\n",
    "plt.show()"
   ]
  },
  {
   "cell_type": "markdown",
   "id": "7fdc288f",
   "metadata": {},
   "source": [
    "Price is influenced by the neighborhood. Most importantly by the crime_rate. The lower the crime rate, the larger the prices "
   ]
  },
  {
   "cell_type": "code",
   "execution_count": 75,
   "id": "1c12e32a",
   "metadata": {},
   "outputs": [],
   "source": [
    "#  Calculating Frequency tables\n",
    "frq_table_1 = pd.crosstab(index=df['neighborhood'].astype(str), columns= df['is_furnished'].astype(str),\n",
    "                        normalize ='index', margins=False).round(2)"
   ]
  },
  {
   "cell_type": "markdown",
   "id": "c51e10df",
   "metadata": {},
   "source": [
    "### Studying the Apartment Floor"
   ]
  },
  {
   "cell_type": "code",
   "execution_count": 77,
   "id": "669b2ced",
   "metadata": {},
   "outputs": [
    {
     "data": {
      "text/plain": [
       "Index(['id', 'num_rooms', 'num_baths', 'square_meters', 'orientation',\n",
       "       'year_built', 'door', 'is_furnished', 'has_pool', 'neighborhood',\n",
       "       'num_crimes', 'has_ac', 'accepts_pets', 'num_supermarkets', 'price',\n",
       "       'floor', 'today', 'age', 'neighborhood_Encoded', 'supermarkets_Encoded',\n",
       "       'age_range', 'o_east', 'o_north', 'o_south', 'o_west', 'a_0-25 years',\n",
       "       'a_25-50 years', 'a_50-75 years', 'baths_per_room', 'sqrmt_per_room',\n",
       "       'rooms_per_sqrmt'],\n",
       "      dtype='object')"
      ]
     },
     "execution_count": 77,
     "metadata": {},
     "output_type": "execute_result"
    }
   ],
   "source": [
    "df.columns"
   ]
  },
  {
   "cell_type": "code",
   "execution_count": 79,
   "id": "409c19e5",
   "metadata": {},
   "outputs": [
    {
     "ename": "ValueError",
     "evalue": "cannot insert floor, already exists",
     "output_type": "error",
     "traceback": [
      "\u001b[0;31m---------------------------------------------------------------------------\u001b[0m",
      "\u001b[0;31mValueError\u001b[0m                                Traceback (most recent call last)",
      "\u001b[0;32m/var/folders/pv/kfw019zx6lq5tdq_s52kkbzc0000gn/T/ipykernel_72102/1865081791.py\u001b[0m in \u001b[0;36m<module>\u001b[0;34m\u001b[0m\n\u001b[0;32m----> 1\u001b[0;31m \u001b[0mf_price_v\u001b[0m \u001b[0;34m=\u001b[0m \u001b[0mdf\u001b[0m\u001b[0;34m.\u001b[0m\u001b[0mgroupby\u001b[0m\u001b[0;34m(\u001b[0m\u001b[0;34m'floor'\u001b[0m\u001b[0;34m)\u001b[0m\u001b[0;34m[\u001b[0m\u001b[0mvariables\u001b[0m\u001b[0;34m]\u001b[0m\u001b[0;34m.\u001b[0m\u001b[0mmean\u001b[0m\u001b[0;34m(\u001b[0m\u001b[0;34m)\u001b[0m\u001b[0;34m.\u001b[0m\u001b[0msort_values\u001b[0m\u001b[0;34m(\u001b[0m\u001b[0mby\u001b[0m\u001b[0;34m=\u001b[0m\u001b[0;34m'price'\u001b[0m\u001b[0;34m,\u001b[0m\u001b[0mascending\u001b[0m \u001b[0;34m=\u001b[0m \u001b[0;32mFalse\u001b[0m\u001b[0;34m)\u001b[0m\u001b[0;34m.\u001b[0m\u001b[0mround\u001b[0m\u001b[0;34m(\u001b[0m\u001b[0;36m3\u001b[0m\u001b[0;34m)\u001b[0m\u001b[0;34m.\u001b[0m\u001b[0mreset_index\u001b[0m\u001b[0;34m(\u001b[0m\u001b[0;34m)\u001b[0m\u001b[0;34m\u001b[0m\u001b[0;34m\u001b[0m\u001b[0m\n\u001b[0m",
      "\u001b[0;32m/opt/anaconda3/lib/python3.9/site-packages/pandas/util/_decorators.py\u001b[0m in \u001b[0;36mwrapper\u001b[0;34m(*args, **kwargs)\u001b[0m\n\u001b[1;32m    309\u001b[0m                     \u001b[0mstacklevel\u001b[0m\u001b[0;34m=\u001b[0m\u001b[0mstacklevel\u001b[0m\u001b[0;34m,\u001b[0m\u001b[0;34m\u001b[0m\u001b[0;34m\u001b[0m\u001b[0m\n\u001b[1;32m    310\u001b[0m                 )\n\u001b[0;32m--> 311\u001b[0;31m             \u001b[0;32mreturn\u001b[0m \u001b[0mfunc\u001b[0m\u001b[0;34m(\u001b[0m\u001b[0;34m*\u001b[0m\u001b[0margs\u001b[0m\u001b[0;34m,\u001b[0m \u001b[0;34m**\u001b[0m\u001b[0mkwargs\u001b[0m\u001b[0;34m)\u001b[0m\u001b[0;34m\u001b[0m\u001b[0;34m\u001b[0m\u001b[0m\n\u001b[0m\u001b[1;32m    312\u001b[0m \u001b[0;34m\u001b[0m\u001b[0m\n\u001b[1;32m    313\u001b[0m         \u001b[0;32mreturn\u001b[0m \u001b[0mwrapper\u001b[0m\u001b[0;34m\u001b[0m\u001b[0;34m\u001b[0m\u001b[0m\n",
      "\u001b[0;32m/opt/anaconda3/lib/python3.9/site-packages/pandas/core/frame.py\u001b[0m in \u001b[0;36mreset_index\u001b[0;34m(self, level, drop, inplace, col_level, col_fill)\u001b[0m\n\u001b[1;32m   5797\u001b[0m                     )\n\u001b[1;32m   5798\u001b[0m \u001b[0;34m\u001b[0m\u001b[0m\n\u001b[0;32m-> 5799\u001b[0;31m                 \u001b[0mnew_obj\u001b[0m\u001b[0;34m.\u001b[0m\u001b[0minsert\u001b[0m\u001b[0;34m(\u001b[0m\u001b[0;36m0\u001b[0m\u001b[0;34m,\u001b[0m \u001b[0mname\u001b[0m\u001b[0;34m,\u001b[0m \u001b[0mlevel_values\u001b[0m\u001b[0;34m)\u001b[0m\u001b[0;34m\u001b[0m\u001b[0;34m\u001b[0m\u001b[0m\n\u001b[0m\u001b[1;32m   5800\u001b[0m \u001b[0;34m\u001b[0m\u001b[0m\n\u001b[1;32m   5801\u001b[0m         \u001b[0mnew_obj\u001b[0m\u001b[0;34m.\u001b[0m\u001b[0mindex\u001b[0m \u001b[0;34m=\u001b[0m \u001b[0mnew_index\u001b[0m\u001b[0;34m\u001b[0m\u001b[0;34m\u001b[0m\u001b[0m\n",
      "\u001b[0;32m/opt/anaconda3/lib/python3.9/site-packages/pandas/core/frame.py\u001b[0m in \u001b[0;36minsert\u001b[0;34m(self, loc, column, value, allow_duplicates)\u001b[0m\n\u001b[1;32m   4412\u001b[0m         \u001b[0;32mif\u001b[0m \u001b[0;32mnot\u001b[0m \u001b[0mallow_duplicates\u001b[0m \u001b[0;32mand\u001b[0m \u001b[0mcolumn\u001b[0m \u001b[0;32min\u001b[0m \u001b[0mself\u001b[0m\u001b[0;34m.\u001b[0m\u001b[0mcolumns\u001b[0m\u001b[0;34m:\u001b[0m\u001b[0;34m\u001b[0m\u001b[0;34m\u001b[0m\u001b[0m\n\u001b[1;32m   4413\u001b[0m             \u001b[0;31m# Should this be a different kind of error??\u001b[0m\u001b[0;34m\u001b[0m\u001b[0;34m\u001b[0m\u001b[0m\n\u001b[0;32m-> 4414\u001b[0;31m             \u001b[0;32mraise\u001b[0m \u001b[0mValueError\u001b[0m\u001b[0;34m(\u001b[0m\u001b[0;34mf\"cannot insert {column}, already exists\"\u001b[0m\u001b[0;34m)\u001b[0m\u001b[0;34m\u001b[0m\u001b[0;34m\u001b[0m\u001b[0m\n\u001b[0m\u001b[1;32m   4415\u001b[0m         \u001b[0;32mif\u001b[0m \u001b[0;32mnot\u001b[0m \u001b[0misinstance\u001b[0m\u001b[0;34m(\u001b[0m\u001b[0mloc\u001b[0m\u001b[0;34m,\u001b[0m \u001b[0mint\u001b[0m\u001b[0;34m)\u001b[0m\u001b[0;34m:\u001b[0m\u001b[0;34m\u001b[0m\u001b[0;34m\u001b[0m\u001b[0m\n\u001b[1;32m   4416\u001b[0m             \u001b[0;32mraise\u001b[0m \u001b[0mTypeError\u001b[0m\u001b[0;34m(\u001b[0m\u001b[0;34m\"loc must be int\"\u001b[0m\u001b[0;34m)\u001b[0m\u001b[0;34m\u001b[0m\u001b[0;34m\u001b[0m\u001b[0m\n",
      "\u001b[0;31mValueError\u001b[0m: cannot insert floor, already exists"
     ]
    }
   ],
   "source": [
    "f_price_v = df.groupby('floor')[variables].mean().sort_values(by='price',ascending = False).round(3).reset_index()"
   ]
  },
  {
   "cell_type": "code",
   "execution_count": 88,
   "id": "79053341",
   "metadata": {},
   "outputs": [
    {
     "ename": "NameError",
     "evalue": "name 'f_price_v' is not defined",
     "output_type": "error",
     "traceback": [
      "\u001b[0;31m---------------------------------------------------------------------------\u001b[0m",
      "\u001b[0;31mNameError\u001b[0m                                 Traceback (most recent call last)",
      "\u001b[0;32m/var/folders/pv/kfw019zx6lq5tdq_s52kkbzc0000gn/T/ipykernel_72102/1472430841.py\u001b[0m in \u001b[0;36m<module>\u001b[0;34m\u001b[0m\n\u001b[0;32m----> 1\u001b[0;31m \u001b[0mf_price_v\u001b[0m\u001b[0;34m\u001b[0m\u001b[0;34m\u001b[0m\u001b[0m\n\u001b[0m",
      "\u001b[0;31mNameError\u001b[0m: name 'f_price_v' is not defined"
     ]
    }
   ],
   "source": [
    "f_price_v"
   ]
  },
  {
   "cell_type": "code",
   "execution_count": 90,
   "id": "7b442546",
   "metadata": {},
   "outputs": [
    {
     "ename": "NameError",
     "evalue": "name 'f_price_v' is not defined",
     "output_type": "error",
     "traceback": [
      "\u001b[0;31m---------------------------------------------------------------------------\u001b[0m",
      "\u001b[0;31mNameError\u001b[0m                                 Traceback (most recent call last)",
      "\u001b[0;32m/var/folders/pv/kfw019zx6lq5tdq_s52kkbzc0000gn/T/ipykernel_72102/320763062.py\u001b[0m in \u001b[0;36m<module>\u001b[0;34m\u001b[0m\n\u001b[1;32m      1\u001b[0m \u001b[0;31m#Plot both mean  and median as lines\u001b[0m\u001b[0;34m\u001b[0m\u001b[0;34m\u001b[0m\u001b[0m\n\u001b[1;32m      2\u001b[0m \u001b[0mfig\u001b[0m\u001b[0;34m,\u001b[0m \u001b[0;34m(\u001b[0m\u001b[0max1\u001b[0m\u001b[0;34m,\u001b[0m\u001b[0max2\u001b[0m\u001b[0;34m,\u001b[0m\u001b[0max3\u001b[0m\u001b[0;34m,\u001b[0m\u001b[0max4\u001b[0m\u001b[0;34m)\u001b[0m \u001b[0;34m=\u001b[0m \u001b[0mplt\u001b[0m\u001b[0;34m.\u001b[0m\u001b[0msubplots\u001b[0m\u001b[0;34m(\u001b[0m\u001b[0;36m1\u001b[0m\u001b[0;34m,\u001b[0m\u001b[0;36m4\u001b[0m\u001b[0;34m,\u001b[0m \u001b[0mfigsize\u001b[0m\u001b[0;34m=\u001b[0m\u001b[0;34m(\u001b[0m\u001b[0;36m14\u001b[0m\u001b[0;34m,\u001b[0m\u001b[0;36m8\u001b[0m\u001b[0;34m)\u001b[0m\u001b[0;34m)\u001b[0m\u001b[0;34m\u001b[0m\u001b[0;34m\u001b[0m\u001b[0m\n\u001b[0;32m----> 3\u001b[0;31m \u001b[0mf_price_v\u001b[0m\u001b[0;34m.\u001b[0m\u001b[0mplot\u001b[0m\u001b[0;34m(\u001b[0m\u001b[0mx\u001b[0m\u001b[0;34m=\u001b[0m\u001b[0;34m'floor'\u001b[0m\u001b[0;34m,\u001b[0m \u001b[0my\u001b[0m\u001b[0;34m=\u001b[0m\u001b[0;34m'price'\u001b[0m \u001b[0;34m,\u001b[0m \u001b[0mkind\u001b[0m\u001b[0;34m=\u001b[0m \u001b[0;34m'bar'\u001b[0m\u001b[0;34m,\u001b[0m \u001b[0max\u001b[0m\u001b[0;34m=\u001b[0m\u001b[0max1\u001b[0m\u001b[0;34m,\u001b[0m\u001b[0mfontsize\u001b[0m\u001b[0;34m=\u001b[0m\u001b[0;36m8\u001b[0m\u001b[0;34m)\u001b[0m\u001b[0;34m\u001b[0m\u001b[0;34m\u001b[0m\u001b[0m\n\u001b[0m\u001b[1;32m      4\u001b[0m \u001b[0mf_price_v\u001b[0m\u001b[0;34m.\u001b[0m\u001b[0mplot\u001b[0m\u001b[0;34m(\u001b[0m\u001b[0mx\u001b[0m\u001b[0;34m=\u001b[0m\u001b[0;34m'floor'\u001b[0m\u001b[0;34m,\u001b[0m \u001b[0my\u001b[0m\u001b[0;34m=\u001b[0m\u001b[0;34m'num_crimes'\u001b[0m\u001b[0;34m,\u001b[0m \u001b[0mkind\u001b[0m \u001b[0;34m=\u001b[0m \u001b[0;34m'bar'\u001b[0m\u001b[0;34m,\u001b[0m\u001b[0max\u001b[0m \u001b[0;34m=\u001b[0m \u001b[0max2\u001b[0m\u001b[0;34m,\u001b[0m\u001b[0mfontsize\u001b[0m\u001b[0;34m=\u001b[0m\u001b[0;36m8\u001b[0m\u001b[0;34m)\u001b[0m\u001b[0;34m\u001b[0m\u001b[0;34m\u001b[0m\u001b[0m\n\u001b[1;32m      5\u001b[0m \u001b[0mf_price_v\u001b[0m\u001b[0;34m.\u001b[0m\u001b[0mplot\u001b[0m\u001b[0;34m(\u001b[0m\u001b[0mx\u001b[0m\u001b[0;34m=\u001b[0m\u001b[0;34m'floor'\u001b[0m\u001b[0;34m,\u001b[0m \u001b[0my\u001b[0m\u001b[0;34m=\u001b[0m\u001b[0;34m'age'\u001b[0m \u001b[0;34m,\u001b[0m \u001b[0mkind\u001b[0m\u001b[0;34m=\u001b[0m \u001b[0;34m'bar'\u001b[0m\u001b[0;34m,\u001b[0m \u001b[0max\u001b[0m\u001b[0;34m=\u001b[0m\u001b[0max3\u001b[0m\u001b[0;34m,\u001b[0m\u001b[0mfontsize\u001b[0m\u001b[0;34m=\u001b[0m\u001b[0;36m8\u001b[0m\u001b[0;34m)\u001b[0m\u001b[0;34m\u001b[0m\u001b[0;34m\u001b[0m\u001b[0m\n",
      "\u001b[0;31mNameError\u001b[0m: name 'f_price_v' is not defined"
     ]
    },
    {
     "data": {
      "image/png": "[encoded data removed]",
      "text/plain": [
       "<Figure size 1008x576 with 4 Axes>"
      ]
     },
     "metadata": {
      "needs_background": "light"
     },
     "output_type": "display_data"
    }
   ],
   "source": [
    "#Plot both mean  and median as lines\n",
    "fig, (ax1,ax2,ax3,ax4) = plt.subplots(1,4, figsize=(14,8))\n",
    "f_price_v.plot(x='floor', y='price' , kind= 'bar', ax=ax1,fontsize=8)\n",
    "f_price_v.plot(x='floor', y='num_crimes', kind = 'bar',ax = ax2,fontsize=8)\n",
    "f_price_v.plot(x='floor', y='age' , kind= 'bar', ax=ax3,fontsize=8)\n",
    "#f_price_v.plot(x='floor', y='rooms_per_sqrtmt' , kind= 'bar', ax=ax4,fontsize=8)\n",
    "f_price_v.plot(x='floor', y='baths_per_room' , kind= 'bar', ax=ax4,fontsize=8)\n",
    "\n",
    "plt.xticks(rotation=90)\n",
    "plt.show()"
   ]
  },
  {
   "cell_type": "markdown",
   "id": "d8833a52",
   "metadata": {},
   "source": [
    "Clear pattern shows that higher floors have more weight on the apartment price"
   ]
  },
  {
   "cell_type": "code",
   "execution_count": null,
   "id": "ad7008cb",
   "metadata": {},
   "outputs": [],
   "source": [
    "#  Calculating Frequency tables\n",
    "frq_table_1 = pd.crosstab(index=df['floor'].astype(str), columns= df['age_range'].astype(str),\n",
    "                        normalize ='index', margins=False).round(2)"
   ]
  },
  {
   "cell_type": "markdown",
   "id": "2339f836",
   "metadata": {},
   "source": [
    "### Studying Age"
   ]
  },
  {
   "cell_type": "code",
   "execution_count": null,
   "id": "2041acdc",
   "metadata": {},
   "outputs": [],
   "source": [
    "df.columns"
   ]
  },
  {
   "cell_type": "code",
   "execution_count": null,
   "id": "2cb48074",
   "metadata": {},
   "outputs": [],
   "source": [
    "A_price_v = df.groupby(['age_range'])[variables].mean().sort_values(by='price',ascending = False).round(3).reset_index()"
   ]
  },
  {
   "cell_type": "code",
   "execution_count": null,
   "id": "3dd7a082",
   "metadata": {},
   "outputs": [],
   "source": [
    "A_price_v"
   ]
  },
  {
   "cell_type": "code",
   "execution_count": null,
   "id": "76ffd0e3",
   "metadata": {
    "scrolled": false
   },
   "outputs": [],
   "source": [
    "#Plot both mean  and median as lines\n",
    "fig, (ax1,ax2,ax3,ax4,ax5) = plt.subplots(1,5, figsize=(14,8))\n",
    "A_price_v.plot(x='age_range', y='price' , kind= 'bar', ax=ax1,fontsize=8)\n",
    "A_price_v.plot(x='age_range', y='num_crimes', kind = 'bar',ax = ax2,fontsize=8)\n",
    "A_price_v.plot(x='age_range', y='square_meters' , kind= 'bar', ax=ax3,fontsize=8)\n",
    "A_price_v.plot(x='age_range', y='rooms_per_sqrtmt' , kind= 'bar', ax=ax4,fontsize=8)\n",
    "A_price_v.plot(x='age_range', y='baths_per_room' , kind= 'bar', ax=ax5,fontsize=8)\n",
    "\n",
    "plt.xticks(rotation=90)\n",
    "plt.show()"
   ]
  },
  {
   "cell_type": "markdown",
   "id": "01fd937b",
   "metadata": {},
   "source": [
    "### Studying Orientation"
   ]
  },
  {
   "cell_type": "code",
   "execution_count": null,
   "id": "f42cb084",
   "metadata": {},
   "outputs": [],
   "source": [
    "df.columns"
   ]
  },
  {
   "cell_type": "code",
   "execution_count": null,
   "id": "09f9f0da",
   "metadata": {},
   "outputs": [],
   "source": [
    "o_price_v = df.groupby(['orientation'])[variables].mean().sort_values(by='price',ascending = False).round(3).reset_index()"
   ]
  },
  {
   "cell_type": "code",
   "execution_count": null,
   "id": "b8dde6bc",
   "metadata": {},
   "outputs": [],
   "source": [
    "o_price_v"
   ]
  },
  {
   "cell_type": "code",
   "execution_count": null,
   "id": "b2bbd357",
   "metadata": {},
   "outputs": [],
   "source": [
    "#Plot both mean  and median as lines\n",
    "fig, (ax1,ax2,ax3,ax4,ax5) = plt.subplots(1,5, figsize=(14,8))\n",
    "o_price_v.plot(x='orientation', y='price' , kind= 'bar', ax=ax1,fontsize=8)\n",
    "o_price_v.plot(x='orientation', y='num_crimes', kind = 'bar',ax = ax2,fontsize=8)\n",
    "o_price_v.plot(x='orientation', y='square_meters' , kind= 'bar', ax=ax3,fontsize=8)\n",
    "o_price_v.plot(x='orientation', y='rooms_per_sqrtmt' , kind= 'bar', ax=ax4,fontsize=8)\n",
    "o_price_v.plot(x='orientation', y='baths_per_room' , kind= 'bar', ax=ax5,fontsize=8)\n",
    "\n",
    "plt.xticks(rotation=90)\n",
    "plt.show()"
   ]
  },
  {
   "cell_type": "code",
   "execution_count": null,
   "id": "1b714afb",
   "metadata": {
    "scrolled": true
   },
   "outputs": [],
   "source": [
    "df.corr()"
   ]
  },
  {
   "cell_type": "code",
   "execution_count": null,
   "id": "30c4d600",
   "metadata": {},
   "outputs": [],
   "source": [
    "lista = df.describe().columns"
   ]
  },
  {
   "cell_type": "code",
   "execution_count": null,
   "id": "278672c8",
   "metadata": {},
   "outputs": [],
   "source": [
    "import matplotlib.pyplot as plt\n",
    "import seaborn as sns\n",
    "\n",
    "corr = df[variables].corr()\n",
    "plt.figure(figsize=(11, 8))\n",
    "sns.heatmap(corr, cmap=\"RdYlGn\", annot=True)\n",
    "plt.show()\n"
   ]
  }
 ],
 "metadata": {
  "kernelspec": {
   "display_name": "Python 3 (ipykernel)",
   "language": "python",
   "name": "python3"
  },
  "language_info": {
   "codemirror_mode": {
    "name": "ipython",
    "version": 3
   },
   "file_extension": ".py",
   "mimetype": "text/x-python",
   "name": "python",
   "nbconvert_exporter": "python",
   "pygments_lexer": "ipython3",
   "version": "3.9.7"
  }
 },
 "nbformat": 4,
 "nbformat_minor": 5
}
